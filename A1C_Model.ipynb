{
 "cells": [
  {
   "cell_type": "markdown",
   "id": "c3e119dd",
   "metadata": {},
   "source": [
    "### Project 2 - Predicting Hospital Readmissions\n",
    "\n",
    "* Problem: Predict hospital readmissions within 30 days.\n",
    "* Objective: Build a predictive model for high-risk patients.\n",
    "* Tasks:\n",
    "    - Data Preprocessing\n",
    "    - Feature Engineering\n",
    "    - Model Building\n",
    "    - Model Evaluation\n"
   ]
  },
  {
   "cell_type": "code",
   "execution_count": 121,
   "id": "0e98f075",
   "metadata": {},
   "outputs": [],
   "source": [
    "import pandas as pd\n",
    "import numpy as np\n",
    "\n",
    "from sklearn.preprocessing import LabelEncoder, OrdinalEncoder\n",
    "\n",
    "import matplotlib.pyplot as plt\n",
    "import seaborn as sns"
   ]
  },
  {
   "cell_type": "code",
   "execution_count": 122,
   "id": "6771e595",
   "metadata": {},
   "outputs": [],
   "source": [
    "import warnings\n",
    "warnings.filterwarnings(\"ignore\")"
   ]
  },
  {
   "cell_type": "code",
   "execution_count": 123,
   "id": "81154510",
   "metadata": {},
   "outputs": [],
   "source": [
    "raw_df = pd.read_csv(\"hospital_readmissions.csv\")"
   ]
  },
  {
   "cell_type": "code",
   "execution_count": 124,
   "id": "144ddbbd",
   "metadata": {},
   "outputs": [
    {
     "data": {
      "text/html": [
       "<div>\n",
       "<style scoped>\n",
       "    .dataframe tbody tr th:only-of-type {\n",
       "        vertical-align: middle;\n",
       "    }\n",
       "\n",
       "    .dataframe tbody tr th {\n",
       "        vertical-align: top;\n",
       "    }\n",
       "\n",
       "    .dataframe thead th {\n",
       "        text-align: right;\n",
       "    }\n",
       "</style>\n",
       "<table border=\"1\" class=\"dataframe\">\n",
       "  <thead>\n",
       "    <tr style=\"text-align: right;\">\n",
       "      <th></th>\n",
       "      <th>Patient_ID</th>\n",
       "      <th>Age</th>\n",
       "      <th>Gender</th>\n",
       "      <th>Admission_Type</th>\n",
       "      <th>Diagnosis</th>\n",
       "      <th>Num_Lab_Procedures</th>\n",
       "      <th>Num_Medications</th>\n",
       "      <th>Num_Outpatient_Visits</th>\n",
       "      <th>Num_Inpatient_Visits</th>\n",
       "      <th>Num_Emergency_Visits</th>\n",
       "      <th>Num_Diagnoses</th>\n",
       "      <th>A1C_Result</th>\n",
       "      <th>Readmitted</th>\n",
       "    </tr>\n",
       "  </thead>\n",
       "  <tbody>\n",
       "    <tr>\n",
       "      <th>0</th>\n",
       "      <td>1</td>\n",
       "      <td>69</td>\n",
       "      <td>Other</td>\n",
       "      <td>Emergency</td>\n",
       "      <td>Heart Disease</td>\n",
       "      <td>33</td>\n",
       "      <td>2</td>\n",
       "      <td>4</td>\n",
       "      <td>1</td>\n",
       "      <td>1</td>\n",
       "      <td>5</td>\n",
       "      <td>NaN</td>\n",
       "      <td>Yes</td>\n",
       "    </tr>\n",
       "    <tr>\n",
       "      <th>1</th>\n",
       "      <td>2</td>\n",
       "      <td>32</td>\n",
       "      <td>Female</td>\n",
       "      <td>Urgent</td>\n",
       "      <td>Diabetes</td>\n",
       "      <td>81</td>\n",
       "      <td>10</td>\n",
       "      <td>4</td>\n",
       "      <td>4</td>\n",
       "      <td>1</td>\n",
       "      <td>6</td>\n",
       "      <td>NaN</td>\n",
       "      <td>No</td>\n",
       "    </tr>\n",
       "    <tr>\n",
       "      <th>2</th>\n",
       "      <td>3</td>\n",
       "      <td>78</td>\n",
       "      <td>Female</td>\n",
       "      <td>Urgent</td>\n",
       "      <td>Heart Disease</td>\n",
       "      <td>75</td>\n",
       "      <td>29</td>\n",
       "      <td>4</td>\n",
       "      <td>0</td>\n",
       "      <td>3</td>\n",
       "      <td>5</td>\n",
       "      <td>Normal</td>\n",
       "      <td>No</td>\n",
       "    </tr>\n",
       "    <tr>\n",
       "      <th>3</th>\n",
       "      <td>4</td>\n",
       "      <td>38</td>\n",
       "      <td>Male</td>\n",
       "      <td>Elective</td>\n",
       "      <td>Diabetes</td>\n",
       "      <td>77</td>\n",
       "      <td>11</td>\n",
       "      <td>2</td>\n",
       "      <td>3</td>\n",
       "      <td>4</td>\n",
       "      <td>9</td>\n",
       "      <td>NaN</td>\n",
       "      <td>Yes</td>\n",
       "    </tr>\n",
       "    <tr>\n",
       "      <th>4</th>\n",
       "      <td>5</td>\n",
       "      <td>41</td>\n",
       "      <td>Female</td>\n",
       "      <td>Urgent</td>\n",
       "      <td>Diabetes</td>\n",
       "      <td>50</td>\n",
       "      <td>25</td>\n",
       "      <td>3</td>\n",
       "      <td>4</td>\n",
       "      <td>1</td>\n",
       "      <td>3</td>\n",
       "      <td>NaN</td>\n",
       "      <td>Yes</td>\n",
       "    </tr>\n",
       "  </tbody>\n",
       "</table>\n",
       "</div>"
      ],
      "text/plain": [
       "   Patient_ID  Age  Gender Admission_Type      Diagnosis  Num_Lab_Procedures  \\\n",
       "0           1   69   Other      Emergency  Heart Disease                  33   \n",
       "1           2   32  Female         Urgent       Diabetes                  81   \n",
       "2           3   78  Female         Urgent  Heart Disease                  75   \n",
       "3           4   38    Male       Elective       Diabetes                  77   \n",
       "4           5   41  Female         Urgent       Diabetes                  50   \n",
       "\n",
       "   Num_Medications  Num_Outpatient_Visits  Num_Inpatient_Visits  \\\n",
       "0                2                      4                     1   \n",
       "1               10                      4                     4   \n",
       "2               29                      4                     0   \n",
       "3               11                      2                     3   \n",
       "4               25                      3                     4   \n",
       "\n",
       "   Num_Emergency_Visits  Num_Diagnoses A1C_Result Readmitted  \n",
       "0                     1              5        NaN        Yes  \n",
       "1                     1              6        NaN         No  \n",
       "2                     3              5     Normal         No  \n",
       "3                     4              9        NaN        Yes  \n",
       "4                     1              3        NaN        Yes  "
      ]
     },
     "execution_count": 124,
     "metadata": {},
     "output_type": "execute_result"
    }
   ],
   "source": [
    "raw_df.head()"
   ]
  },
  {
   "cell_type": "code",
   "execution_count": 125,
   "id": "f1a37395",
   "metadata": {},
   "outputs": [],
   "source": [
    "#shape"
   ]
  },
  {
   "cell_type": "code",
   "execution_count": 126,
   "id": "6345c04c",
   "metadata": {
    "scrolled": true
   },
   "outputs": [
    {
     "data": {
      "text/plain": [
       "(1000, 13)"
      ]
     },
     "execution_count": 126,
     "metadata": {},
     "output_type": "execute_result"
    }
   ],
   "source": [
    "raw_df.shape"
   ]
  },
  {
   "cell_type": "code",
   "execution_count": 127,
   "id": "2b1edd80",
   "metadata": {},
   "outputs": [],
   "source": [
    "#info"
   ]
  },
  {
   "cell_type": "code",
   "execution_count": 128,
   "id": "90df8740",
   "metadata": {
    "scrolled": true
   },
   "outputs": [
    {
     "name": "stdout",
     "output_type": "stream",
     "text": [
      "<class 'pandas.core.frame.DataFrame'>\n",
      "RangeIndex: 1000 entries, 0 to 999\n",
      "Data columns (total 13 columns):\n",
      " #   Column                 Non-Null Count  Dtype \n",
      "---  ------                 --------------  ----- \n",
      " 0   Patient_ID             1000 non-null   int64 \n",
      " 1   Age                    1000 non-null   int64 \n",
      " 2   Gender                 1000 non-null   object\n",
      " 3   Admission_Type         1000 non-null   object\n",
      " 4   Diagnosis              1000 non-null   object\n",
      " 5   Num_Lab_Procedures     1000 non-null   int64 \n",
      " 6   Num_Medications        1000 non-null   int64 \n",
      " 7   Num_Outpatient_Visits  1000 non-null   int64 \n",
      " 8   Num_Inpatient_Visits   1000 non-null   int64 \n",
      " 9   Num_Emergency_Visits   1000 non-null   int64 \n",
      " 10  Num_Diagnoses          1000 non-null   int64 \n",
      " 11  A1C_Result             566 non-null    object\n",
      " 12  Readmitted             1000 non-null   object\n",
      "dtypes: int64(8), object(5)\n",
      "memory usage: 101.7+ KB\n"
     ]
    }
   ],
   "source": [
    "raw_df.info()"
   ]
  },
  {
   "cell_type": "code",
   "execution_count": 129,
   "id": "85afcaa4",
   "metadata": {},
   "outputs": [],
   "source": [
    "#null"
   ]
  },
  {
   "cell_type": "code",
   "execution_count": 130,
   "id": "ddd46db6",
   "metadata": {
    "scrolled": false
   },
   "outputs": [
    {
     "data": {
      "text/plain": [
       "Patient_ID                 0\n",
       "Age                        0\n",
       "Gender                     0\n",
       "Admission_Type             0\n",
       "Diagnosis                  0\n",
       "Num_Lab_Procedures         0\n",
       "Num_Medications            0\n",
       "Num_Outpatient_Visits      0\n",
       "Num_Inpatient_Visits       0\n",
       "Num_Emergency_Visits       0\n",
       "Num_Diagnoses              0\n",
       "A1C_Result               434\n",
       "Readmitted                 0\n",
       "dtype: int64"
      ]
     },
     "execution_count": 130,
     "metadata": {},
     "output_type": "execute_result"
    }
   ],
   "source": [
    "raw_df.isnull().sum()"
   ]
  },
  {
   "cell_type": "code",
   "execution_count": 131,
   "id": "3add1c4d",
   "metadata": {},
   "outputs": [],
   "source": [
    "#unique"
   ]
  },
  {
   "cell_type": "code",
   "execution_count": 132,
   "id": "d5ade3d2",
   "metadata": {
    "scrolled": true
   },
   "outputs": [
    {
     "data": {
      "text/plain": [
       "Patient_ID               1000\n",
       "Age                        68\n",
       "Gender                      3\n",
       "Admission_Type              3\n",
       "Diagnosis                   4\n",
       "Num_Lab_Procedures         99\n",
       "Num_Medications            30\n",
       "Num_Outpatient_Visits       5\n",
       "Num_Inpatient_Visits        5\n",
       "Num_Emergency_Visits        5\n",
       "Num_Diagnoses               9\n",
       "A1C_Result                  2\n",
       "Readmitted                  2\n",
       "dtype: int64"
      ]
     },
     "execution_count": 132,
     "metadata": {},
     "output_type": "execute_result"
    }
   ],
   "source": [
    "raw_df.nunique()"
   ]
  },
  {
   "cell_type": "code",
   "execution_count": 133,
   "id": "7b655ba8",
   "metadata": {
    "scrolled": false
   },
   "outputs": [
    {
     "name": "stdout",
     "output_type": "stream",
     "text": [
      "'Age':\n",
      " [ 69  32  78  38  41  20  39  70  19  47  55  81  77  50  75  66  76  59\n",
      "  79  64  68  72  24  56  35  21  31  26  61  25  52  53  67 150  65  57\n",
      "  43  58  46  62  82  18  80  28  22  45  29  51  40  54  44  60  30  49\n",
      "  83  74  23  73  71  36  34  33  37  84  48  42  63  27]\n",
      "\n",
      "'Gender':\n",
      " ['Other' 'Female' 'Male']\n",
      "\n",
      "'Admission_Type':\n",
      " ['Emergency' 'Urgent' 'Elective']\n",
      "\n",
      "'Diagnosis':\n",
      " ['Heart Disease' 'Diabetes' 'Injury' 'Infection']\n",
      "\n",
      "'Num_Lab_Procedures':\n",
      " [33 81 75 77 50 11 95 28 70 41 16 68 99 48 56 64 59 90 62 76 89 18 19 87\n",
      " 55 82 26  6  4 29 98 17 43 80 66 34  8 13 94 96 65 39 84 88 86 93 44  9\n",
      " 37 74 36 92 42 85 72 91 22 27 67 45 10 54  1 32 71 20 35 78 53 58  5 69\n",
      " 51 21 60 47 40 23 15 46 24 63 61 57 49  7 38  3 30 25 31 52 73 83 14 97\n",
      "  2 12 79]\n",
      "\n",
      "'Num_Medications':\n",
      " [ 2 10 29 11 25 20 16 19 23 24 14 28  5 27 21 12 18  4 22 17  6 35  9  1\n",
      "  7 15  8  3 26 13]\n",
      "\n",
      "'Num_Outpatient_Visits':\n",
      " [4 2 3 1 0]\n",
      "\n",
      "'Num_Inpatient_Visits':\n",
      " [1 4 0 3 2]\n",
      "\n",
      "'Num_Emergency_Visits':\n",
      " [1 3 4 0 2]\n",
      "\n",
      "'Num_Diagnoses':\n",
      " [5 6 9 3 7 2 8 1 4]\n",
      "\n",
      "'A1C_Result':\n",
      " [nan 'Normal' 'Abnormal']\n",
      "\n",
      "'Readmitted':\n",
      " ['Yes' 'No']\n",
      "\n"
     ]
    }
   ],
   "source": [
    "new = raw_df.drop(columns=\"Patient_ID\", axis=1)\n",
    "for column in new.columns:\n",
    "    unique_values = raw_df[column].unique()\n",
    "    print(f\"'{column}':\\n {unique_values}\\n\")"
   ]
  },
  {
   "cell_type": "markdown",
   "id": "f4c31bca",
   "metadata": {},
   "source": [
    "## Handling Missing Values"
   ]
  },
  {
   "cell_type": "code",
   "execution_count": 134,
   "id": "4264f930",
   "metadata": {},
   "outputs": [],
   "source": [
    "# Fill null values with a placeholder value\n",
    "raw_df['A1C_Result'].fillna('Unknown', inplace=True)"
   ]
  },
  {
   "cell_type": "code",
   "execution_count": 135,
   "id": "845f9cac",
   "metadata": {},
   "outputs": [
    {
     "data": {
      "text/plain": [
       "Patient_ID               0\n",
       "Age                      0\n",
       "Gender                   0\n",
       "Admission_Type           0\n",
       "Diagnosis                0\n",
       "Num_Lab_Procedures       0\n",
       "Num_Medications          0\n",
       "Num_Outpatient_Visits    0\n",
       "Num_Inpatient_Visits     0\n",
       "Num_Emergency_Visits     0\n",
       "Num_Diagnoses            0\n",
       "A1C_Result               0\n",
       "Readmitted               0\n",
       "dtype: int64"
      ]
     },
     "execution_count": 135,
     "metadata": {},
     "output_type": "execute_result"
    }
   ],
   "source": [
    "raw_df.isnull().sum()"
   ]
  },
  {
   "cell_type": "markdown",
   "id": "a204ce31",
   "metadata": {},
   "source": [
    "## Handling Categorical Features"
   ]
  },
  {
   "cell_type": "code",
   "execution_count": 136,
   "id": "95adc0b8",
   "metadata": {},
   "outputs": [
    {
     "data": {
      "text/plain": [
       "array([2, 0, 1])"
      ]
     },
     "execution_count": 136,
     "metadata": {},
     "output_type": "execute_result"
    }
   ],
   "source": [
    "# 'Gender': ['Other' 'Female' 'Male']\n",
    "\n",
    "raw_df[\"Gender\"]= LabelEncoder().fit_transform(raw_df[\"Gender\"])\n",
    "\n",
    "raw_df[\"Gender\"].unique()"
   ]
  },
  {
   "cell_type": "code",
   "execution_count": 137,
   "id": "f591b00f",
   "metadata": {},
   "outputs": [
    {
     "data": {
      "text/plain": [
       "array([1, 2, 0])"
      ]
     },
     "execution_count": 137,
     "metadata": {},
     "output_type": "execute_result"
    }
   ],
   "source": [
    "# 'Admission_Type': ['Emergency' 'Urgent' 'Elective']\n",
    "\n",
    "raw_df[\"Admission_Type\"]= LabelEncoder().fit_transform(raw_df[\"Admission_Type\"])\n",
    "\n",
    "raw_df[\"Admission_Type\"].unique()"
   ]
  },
  {
   "cell_type": "code",
   "execution_count": 138,
   "id": "e4cb07ee",
   "metadata": {},
   "outputs": [
    {
     "data": {
      "text/plain": [
       "array([1, 0, 3, 2])"
      ]
     },
     "execution_count": 138,
     "metadata": {},
     "output_type": "execute_result"
    }
   ],
   "source": [
    "# 'Diagnosis': ['Heart Disease' 'Diabetes' 'Injury' 'Infection']\n",
    "\n",
    "raw_df[\"Diagnosis\"]= LabelEncoder().fit_transform(raw_df[\"Diagnosis\"])\n",
    "\n",
    "raw_df[\"Diagnosis\"].unique()"
   ]
  },
  {
   "cell_type": "code",
   "execution_count": 139,
   "id": "b72c142c",
   "metadata": {},
   "outputs": [
    {
     "data": {
      "text/plain": [
       "array([2, 1, 0])"
      ]
     },
     "execution_count": 139,
     "metadata": {},
     "output_type": "execute_result"
    }
   ],
   "source": [
    "# 'A1C_Result': ['Unknown' 'Normal' 'Abnormal']\n",
    "\n",
    "raw_df[\"A1C_Result\"]= LabelEncoder().fit_transform(raw_df[\"A1C_Result\"])\n",
    "\n",
    "raw_df[\"A1C_Result\"].unique()"
   ]
  },
  {
   "cell_type": "code",
   "execution_count": 140,
   "id": "184df031",
   "metadata": {},
   "outputs": [
    {
     "data": {
      "text/plain": [
       "array([1, 0])"
      ]
     },
     "execution_count": 140,
     "metadata": {},
     "output_type": "execute_result"
    }
   ],
   "source": [
    "# 'Readmitted': ['Yes' 'No']\n",
    "\n",
    "raw_df[\"Readmitted\"]= LabelEncoder().fit_transform(raw_df[\"Readmitted\"])\n",
    "\n",
    "raw_df[\"Readmitted\"].unique()"
   ]
  },
  {
   "cell_type": "code",
   "execution_count": null,
   "id": "64907a53",
   "metadata": {},
   "outputs": [],
   "source": []
  },
  {
   "cell_type": "code",
   "execution_count": 141,
   "id": "c7f3e742",
   "metadata": {},
   "outputs": [
    {
     "data": {
      "text/html": [
       "<div>\n",
       "<style scoped>\n",
       "    .dataframe tbody tr th:only-of-type {\n",
       "        vertical-align: middle;\n",
       "    }\n",
       "\n",
       "    .dataframe tbody tr th {\n",
       "        vertical-align: top;\n",
       "    }\n",
       "\n",
       "    .dataframe thead th {\n",
       "        text-align: right;\n",
       "    }\n",
       "</style>\n",
       "<table border=\"1\" class=\"dataframe\">\n",
       "  <thead>\n",
       "    <tr style=\"text-align: right;\">\n",
       "      <th></th>\n",
       "      <th>Patient_ID</th>\n",
       "      <th>Age</th>\n",
       "      <th>Gender</th>\n",
       "      <th>Admission_Type</th>\n",
       "      <th>Diagnosis</th>\n",
       "      <th>Num_Lab_Procedures</th>\n",
       "      <th>Num_Medications</th>\n",
       "      <th>Num_Outpatient_Visits</th>\n",
       "      <th>Num_Inpatient_Visits</th>\n",
       "      <th>Num_Emergency_Visits</th>\n",
       "      <th>Num_Diagnoses</th>\n",
       "      <th>A1C_Result</th>\n",
       "      <th>Readmitted</th>\n",
       "    </tr>\n",
       "  </thead>\n",
       "  <tbody>\n",
       "    <tr>\n",
       "      <th>0</th>\n",
       "      <td>1</td>\n",
       "      <td>69</td>\n",
       "      <td>2</td>\n",
       "      <td>1</td>\n",
       "      <td>1</td>\n",
       "      <td>33</td>\n",
       "      <td>2</td>\n",
       "      <td>4</td>\n",
       "      <td>1</td>\n",
       "      <td>1</td>\n",
       "      <td>5</td>\n",
       "      <td>2</td>\n",
       "      <td>1</td>\n",
       "    </tr>\n",
       "    <tr>\n",
       "      <th>1</th>\n",
       "      <td>2</td>\n",
       "      <td>32</td>\n",
       "      <td>0</td>\n",
       "      <td>2</td>\n",
       "      <td>0</td>\n",
       "      <td>81</td>\n",
       "      <td>10</td>\n",
       "      <td>4</td>\n",
       "      <td>4</td>\n",
       "      <td>1</td>\n",
       "      <td>6</td>\n",
       "      <td>2</td>\n",
       "      <td>0</td>\n",
       "    </tr>\n",
       "    <tr>\n",
       "      <th>2</th>\n",
       "      <td>3</td>\n",
       "      <td>78</td>\n",
       "      <td>0</td>\n",
       "      <td>2</td>\n",
       "      <td>1</td>\n",
       "      <td>75</td>\n",
       "      <td>29</td>\n",
       "      <td>4</td>\n",
       "      <td>0</td>\n",
       "      <td>3</td>\n",
       "      <td>5</td>\n",
       "      <td>1</td>\n",
       "      <td>0</td>\n",
       "    </tr>\n",
       "    <tr>\n",
       "      <th>3</th>\n",
       "      <td>4</td>\n",
       "      <td>38</td>\n",
       "      <td>1</td>\n",
       "      <td>0</td>\n",
       "      <td>0</td>\n",
       "      <td>77</td>\n",
       "      <td>11</td>\n",
       "      <td>2</td>\n",
       "      <td>3</td>\n",
       "      <td>4</td>\n",
       "      <td>9</td>\n",
       "      <td>2</td>\n",
       "      <td>1</td>\n",
       "    </tr>\n",
       "    <tr>\n",
       "      <th>4</th>\n",
       "      <td>5</td>\n",
       "      <td>41</td>\n",
       "      <td>0</td>\n",
       "      <td>2</td>\n",
       "      <td>0</td>\n",
       "      <td>50</td>\n",
       "      <td>25</td>\n",
       "      <td>3</td>\n",
       "      <td>4</td>\n",
       "      <td>1</td>\n",
       "      <td>3</td>\n",
       "      <td>2</td>\n",
       "      <td>1</td>\n",
       "    </tr>\n",
       "  </tbody>\n",
       "</table>\n",
       "</div>"
      ],
      "text/plain": [
       "   Patient_ID  Age  Gender  Admission_Type  Diagnosis  Num_Lab_Procedures  \\\n",
       "0           1   69       2               1          1                  33   \n",
       "1           2   32       0               2          0                  81   \n",
       "2           3   78       0               2          1                  75   \n",
       "3           4   38       1               0          0                  77   \n",
       "4           5   41       0               2          0                  50   \n",
       "\n",
       "   Num_Medications  Num_Outpatient_Visits  Num_Inpatient_Visits  \\\n",
       "0                2                      4                     1   \n",
       "1               10                      4                     4   \n",
       "2               29                      4                     0   \n",
       "3               11                      2                     3   \n",
       "4               25                      3                     4   \n",
       "\n",
       "   Num_Emergency_Visits  Num_Diagnoses  A1C_Result  Readmitted  \n",
       "0                     1              5           2           1  \n",
       "1                     1              6           2           0  \n",
       "2                     3              5           1           0  \n",
       "3                     4              9           2           1  \n",
       "4                     1              3           2           1  "
      ]
     },
     "execution_count": 141,
     "metadata": {},
     "output_type": "execute_result"
    }
   ],
   "source": [
    "raw_df.head()"
   ]
  },
  {
   "cell_type": "markdown",
   "id": "f4609bee",
   "metadata": {},
   "source": [
    "## Handling Data Types"
   ]
  },
  {
   "cell_type": "code",
   "execution_count": 142,
   "id": "f95bb762",
   "metadata": {},
   "outputs": [
    {
     "name": "stdout",
     "output_type": "stream",
     "text": [
      "<class 'pandas.core.frame.DataFrame'>\n",
      "RangeIndex: 1000 entries, 0 to 999\n",
      "Data columns (total 13 columns):\n",
      " #   Column                 Non-Null Count  Dtype\n",
      "---  ------                 --------------  -----\n",
      " 0   Patient_ID             1000 non-null   int64\n",
      " 1   Age                    1000 non-null   int64\n",
      " 2   Gender                 1000 non-null   int64\n",
      " 3   Admission_Type         1000 non-null   int64\n",
      " 4   Diagnosis              1000 non-null   int64\n",
      " 5   Num_Lab_Procedures     1000 non-null   int64\n",
      " 6   Num_Medications        1000 non-null   int64\n",
      " 7   Num_Outpatient_Visits  1000 non-null   int64\n",
      " 8   Num_Inpatient_Visits   1000 non-null   int64\n",
      " 9   Num_Emergency_Visits   1000 non-null   int64\n",
      " 10  Num_Diagnoses          1000 non-null   int64\n",
      " 11  A1C_Result             1000 non-null   int64\n",
      " 12  Readmitted             1000 non-null   int64\n",
      "dtypes: int64(13)\n",
      "memory usage: 101.7 KB\n"
     ]
    }
   ],
   "source": [
    "raw_df.info()"
   ]
  },
  {
   "cell_type": "markdown",
   "id": "382754af",
   "metadata": {},
   "source": [
    "## Handling Duplicate Values"
   ]
  },
  {
   "cell_type": "code",
   "execution_count": 143,
   "id": "bb1dab5d",
   "metadata": {},
   "outputs": [
    {
     "data": {
      "text/plain": [
       "np.int64(0)"
      ]
     },
     "execution_count": 143,
     "metadata": {},
     "output_type": "execute_result"
    }
   ],
   "source": [
    "raw_df.duplicated().sum()"
   ]
  },
  {
   "cell_type": "markdown",
   "id": "ad16993e",
   "metadata": {},
   "source": [
    "## Save the Dataframe"
   ]
  },
  {
   "cell_type": "code",
   "execution_count": 144,
   "id": "af445f4e",
   "metadata": {},
   "outputs": [],
   "source": [
    "# Save the Dataframe\n",
    "raw_df.to_csv(\"hospital_readmissions_only_int.csv\", index= False)"
   ]
  },
  {
   "cell_type": "markdown",
   "id": "00085ce9",
   "metadata": {},
   "source": [
    "## Read the Dataframe"
   ]
  },
  {
   "cell_type": "code",
   "execution_count": 145,
   "id": "12203ee0",
   "metadata": {},
   "outputs": [],
   "source": [
    "df_1 = pd.read_csv(\"hospital_readmissions_only_int.csv\")"
   ]
  },
  {
   "cell_type": "code",
   "execution_count": 146,
   "id": "3988a79b",
   "metadata": {},
   "outputs": [
    {
     "data": {
      "text/html": [
       "<div>\n",
       "<style scoped>\n",
       "    .dataframe tbody tr th:only-of-type {\n",
       "        vertical-align: middle;\n",
       "    }\n",
       "\n",
       "    .dataframe tbody tr th {\n",
       "        vertical-align: top;\n",
       "    }\n",
       "\n",
       "    .dataframe thead th {\n",
       "        text-align: right;\n",
       "    }\n",
       "</style>\n",
       "<table border=\"1\" class=\"dataframe\">\n",
       "  <thead>\n",
       "    <tr style=\"text-align: right;\">\n",
       "      <th></th>\n",
       "      <th>Patient_ID</th>\n",
       "      <th>Age</th>\n",
       "      <th>Gender</th>\n",
       "      <th>Admission_Type</th>\n",
       "      <th>Diagnosis</th>\n",
       "      <th>Num_Lab_Procedures</th>\n",
       "      <th>Num_Medications</th>\n",
       "      <th>Num_Outpatient_Visits</th>\n",
       "      <th>Num_Inpatient_Visits</th>\n",
       "      <th>Num_Emergency_Visits</th>\n",
       "      <th>Num_Diagnoses</th>\n",
       "      <th>A1C_Result</th>\n",
       "      <th>Readmitted</th>\n",
       "    </tr>\n",
       "  </thead>\n",
       "  <tbody>\n",
       "    <tr>\n",
       "      <th>0</th>\n",
       "      <td>1</td>\n",
       "      <td>69</td>\n",
       "      <td>2</td>\n",
       "      <td>1</td>\n",
       "      <td>1</td>\n",
       "      <td>33</td>\n",
       "      <td>2</td>\n",
       "      <td>4</td>\n",
       "      <td>1</td>\n",
       "      <td>1</td>\n",
       "      <td>5</td>\n",
       "      <td>2</td>\n",
       "      <td>1</td>\n",
       "    </tr>\n",
       "    <tr>\n",
       "      <th>1</th>\n",
       "      <td>2</td>\n",
       "      <td>32</td>\n",
       "      <td>0</td>\n",
       "      <td>2</td>\n",
       "      <td>0</td>\n",
       "      <td>81</td>\n",
       "      <td>10</td>\n",
       "      <td>4</td>\n",
       "      <td>4</td>\n",
       "      <td>1</td>\n",
       "      <td>6</td>\n",
       "      <td>2</td>\n",
       "      <td>0</td>\n",
       "    </tr>\n",
       "    <tr>\n",
       "      <th>2</th>\n",
       "      <td>3</td>\n",
       "      <td>78</td>\n",
       "      <td>0</td>\n",
       "      <td>2</td>\n",
       "      <td>1</td>\n",
       "      <td>75</td>\n",
       "      <td>29</td>\n",
       "      <td>4</td>\n",
       "      <td>0</td>\n",
       "      <td>3</td>\n",
       "      <td>5</td>\n",
       "      <td>1</td>\n",
       "      <td>0</td>\n",
       "    </tr>\n",
       "    <tr>\n",
       "      <th>3</th>\n",
       "      <td>4</td>\n",
       "      <td>38</td>\n",
       "      <td>1</td>\n",
       "      <td>0</td>\n",
       "      <td>0</td>\n",
       "      <td>77</td>\n",
       "      <td>11</td>\n",
       "      <td>2</td>\n",
       "      <td>3</td>\n",
       "      <td>4</td>\n",
       "      <td>9</td>\n",
       "      <td>2</td>\n",
       "      <td>1</td>\n",
       "    </tr>\n",
       "    <tr>\n",
       "      <th>4</th>\n",
       "      <td>5</td>\n",
       "      <td>41</td>\n",
       "      <td>0</td>\n",
       "      <td>2</td>\n",
       "      <td>0</td>\n",
       "      <td>50</td>\n",
       "      <td>25</td>\n",
       "      <td>3</td>\n",
       "      <td>4</td>\n",
       "      <td>1</td>\n",
       "      <td>3</td>\n",
       "      <td>2</td>\n",
       "      <td>1</td>\n",
       "    </tr>\n",
       "  </tbody>\n",
       "</table>\n",
       "</div>"
      ],
      "text/plain": [
       "   Patient_ID  Age  Gender  Admission_Type  Diagnosis  Num_Lab_Procedures  \\\n",
       "0           1   69       2               1          1                  33   \n",
       "1           2   32       0               2          0                  81   \n",
       "2           3   78       0               2          1                  75   \n",
       "3           4   38       1               0          0                  77   \n",
       "4           5   41       0               2          0                  50   \n",
       "\n",
       "   Num_Medications  Num_Outpatient_Visits  Num_Inpatient_Visits  \\\n",
       "0                2                      4                     1   \n",
       "1               10                      4                     4   \n",
       "2               29                      4                     0   \n",
       "3               11                      2                     3   \n",
       "4               25                      3                     4   \n",
       "\n",
       "   Num_Emergency_Visits  Num_Diagnoses  A1C_Result  Readmitted  \n",
       "0                     1              5           2           1  \n",
       "1                     1              6           2           0  \n",
       "2                     3              5           1           0  \n",
       "3                     4              9           2           1  \n",
       "4                     1              3           2           1  "
      ]
     },
     "execution_count": 146,
     "metadata": {},
     "output_type": "execute_result"
    }
   ],
   "source": [
    "df_1.head()"
   ]
  },
  {
   "cell_type": "code",
   "execution_count": null,
   "id": "f9dba455",
   "metadata": {},
   "outputs": [],
   "source": []
  },
  {
   "cell_type": "markdown",
   "id": "ef64cd1b",
   "metadata": {},
   "source": [
    "# Finding the Unknown(2) values of A1C_Result"
   ]
  },
  {
   "cell_type": "code",
   "execution_count": 147,
   "id": "b0d2ff78",
   "metadata": {},
   "outputs": [],
   "source": [
    "# Drop rows where 'A1C_Result' has the value 'Unknown(2)'\n",
    "A1C_Not_Null = df_1[df_1['A1C_Result'] != 2]"
   ]
  },
  {
   "cell_type": "code",
   "execution_count": 148,
   "id": "fcc2449e",
   "metadata": {
    "scrolled": true
   },
   "outputs": [
    {
     "data": {
      "text/html": [
       "<div>\n",
       "<style scoped>\n",
       "    .dataframe tbody tr th:only-of-type {\n",
       "        vertical-align: middle;\n",
       "    }\n",
       "\n",
       "    .dataframe tbody tr th {\n",
       "        vertical-align: top;\n",
       "    }\n",
       "\n",
       "    .dataframe thead th {\n",
       "        text-align: right;\n",
       "    }\n",
       "</style>\n",
       "<table border=\"1\" class=\"dataframe\">\n",
       "  <thead>\n",
       "    <tr style=\"text-align: right;\">\n",
       "      <th></th>\n",
       "      <th>Patient_ID</th>\n",
       "      <th>Age</th>\n",
       "      <th>Gender</th>\n",
       "      <th>Admission_Type</th>\n",
       "      <th>Diagnosis</th>\n",
       "      <th>Num_Lab_Procedures</th>\n",
       "      <th>Num_Medications</th>\n",
       "      <th>Num_Outpatient_Visits</th>\n",
       "      <th>Num_Inpatient_Visits</th>\n",
       "      <th>Num_Emergency_Visits</th>\n",
       "      <th>Num_Diagnoses</th>\n",
       "      <th>A1C_Result</th>\n",
       "      <th>Readmitted</th>\n",
       "    </tr>\n",
       "  </thead>\n",
       "  <tbody>\n",
       "    <tr>\n",
       "      <th>2</th>\n",
       "      <td>3</td>\n",
       "      <td>78</td>\n",
       "      <td>0</td>\n",
       "      <td>2</td>\n",
       "      <td>1</td>\n",
       "      <td>75</td>\n",
       "      <td>29</td>\n",
       "      <td>4</td>\n",
       "      <td>0</td>\n",
       "      <td>3</td>\n",
       "      <td>5</td>\n",
       "      <td>1</td>\n",
       "      <td>0</td>\n",
       "    </tr>\n",
       "    <tr>\n",
       "      <th>7</th>\n",
       "      <td>8</td>\n",
       "      <td>70</td>\n",
       "      <td>0</td>\n",
       "      <td>0</td>\n",
       "      <td>1</td>\n",
       "      <td>28</td>\n",
       "      <td>19</td>\n",
       "      <td>4</td>\n",
       "      <td>0</td>\n",
       "      <td>3</td>\n",
       "      <td>7</td>\n",
       "      <td>1</td>\n",
       "      <td>1</td>\n",
       "    </tr>\n",
       "    <tr>\n",
       "      <th>8</th>\n",
       "      <td>9</td>\n",
       "      <td>19</td>\n",
       "      <td>1</td>\n",
       "      <td>2</td>\n",
       "      <td>2</td>\n",
       "      <td>70</td>\n",
       "      <td>23</td>\n",
       "      <td>1</td>\n",
       "      <td>2</td>\n",
       "      <td>4</td>\n",
       "      <td>6</td>\n",
       "      <td>1</td>\n",
       "      <td>0</td>\n",
       "    </tr>\n",
       "    <tr>\n",
       "      <th>9</th>\n",
       "      <td>10</td>\n",
       "      <td>47</td>\n",
       "      <td>1</td>\n",
       "      <td>1</td>\n",
       "      <td>3</td>\n",
       "      <td>41</td>\n",
       "      <td>24</td>\n",
       "      <td>4</td>\n",
       "      <td>0</td>\n",
       "      <td>0</td>\n",
       "      <td>3</td>\n",
       "      <td>0</td>\n",
       "      <td>0</td>\n",
       "    </tr>\n",
       "    <tr>\n",
       "      <th>11</th>\n",
       "      <td>12</td>\n",
       "      <td>19</td>\n",
       "      <td>0</td>\n",
       "      <td>1</td>\n",
       "      <td>3</td>\n",
       "      <td>68</td>\n",
       "      <td>14</td>\n",
       "      <td>2</td>\n",
       "      <td>4</td>\n",
       "      <td>2</td>\n",
       "      <td>5</td>\n",
       "      <td>0</td>\n",
       "      <td>0</td>\n",
       "    </tr>\n",
       "  </tbody>\n",
       "</table>\n",
       "</div>"
      ],
      "text/plain": [
       "    Patient_ID  Age  Gender  Admission_Type  Diagnosis  Num_Lab_Procedures  \\\n",
       "2            3   78       0               2          1                  75   \n",
       "7            8   70       0               0          1                  28   \n",
       "8            9   19       1               2          2                  70   \n",
       "9           10   47       1               1          3                  41   \n",
       "11          12   19       0               1          3                  68   \n",
       "\n",
       "    Num_Medications  Num_Outpatient_Visits  Num_Inpatient_Visits  \\\n",
       "2                29                      4                     0   \n",
       "7                19                      4                     0   \n",
       "8                23                      1                     2   \n",
       "9                24                      4                     0   \n",
       "11               14                      2                     4   \n",
       "\n",
       "    Num_Emergency_Visits  Num_Diagnoses  A1C_Result  Readmitted  \n",
       "2                      3              5           1           0  \n",
       "7                      3              7           1           1  \n",
       "8                      4              6           1           0  \n",
       "9                      0              3           0           0  \n",
       "11                     2              5           0           0  "
      ]
     },
     "execution_count": 148,
     "metadata": {},
     "output_type": "execute_result"
    }
   ],
   "source": [
    "A1C_Not_Null.head()"
   ]
  },
  {
   "cell_type": "code",
   "execution_count": 149,
   "id": "022f1606",
   "metadata": {},
   "outputs": [
    {
     "data": {
      "text/plain": [
       "array([1, 0])"
      ]
     },
     "execution_count": 149,
     "metadata": {},
     "output_type": "execute_result"
    }
   ],
   "source": [
    "A1C_Not_Null['A1C_Result'].unique()"
   ]
  },
  {
   "cell_type": "code",
   "execution_count": 150,
   "id": "2f557d2a",
   "metadata": {},
   "outputs": [
    {
     "data": {
      "text/plain": [
       "(566, 13)"
      ]
     },
     "execution_count": 150,
     "metadata": {},
     "output_type": "execute_result"
    }
   ],
   "source": [
    "A1C_Not_Null.shape"
   ]
  },
  {
   "cell_type": "markdown",
   "id": "20e65b6f",
   "metadata": {},
   "source": [
    "## Handling Outliers"
   ]
  },
  {
   "cell_type": "code",
   "execution_count": 151,
   "id": "2acd4e0d",
   "metadata": {},
   "outputs": [],
   "source": [
    "# Find outlier using Boxplot"
   ]
  },
  {
   "cell_type": "code",
   "execution_count": 152,
   "id": "36314a2a",
   "metadata": {},
   "outputs": [],
   "source": [
    "# Function for box plot   \n",
    "def plot_box_plots(df, cols):\n",
    "\n",
    "    plt.figure(figsize=(10, 12))\n",
    "    \n",
    "    for i, col in enumerate(cols):\n",
    "        plt.subplot(4, 4, i + 1)\n",
    "        sns.boxplot(y=df[col])\n",
    "        plt.title(col)\n",
    "    plt.tight_layout()\n",
    "    plt.show()"
   ]
  },
  {
   "cell_type": "code",
   "execution_count": 153,
   "id": "b681c84a",
   "metadata": {},
   "outputs": [
    {
     "data": {
      "image/png": "[encoded data removed]",
      "text/plain": [
       "<Figure size 1000x1200 with 13 Axes>"
      ]
     },
     "metadata": {},
     "output_type": "display_data"
    }
   ],
   "source": [
    "columns = A1C_Not_Null.columns\n",
    "plot_box_plots(A1C_Not_Null, columns)"
   ]
  },
  {
   "cell_type": "code",
   "execution_count": 154,
   "id": "a52e2b4d",
   "metadata": {},
   "outputs": [],
   "source": [
    "# Find outlier using IQR"
   ]
  },
  {
   "cell_type": "code",
   "execution_count": 155,
   "id": "3c9a6437",
   "metadata": {
    "scrolled": false
   },
   "outputs": [
    {
     "name": "stdout",
     "output_type": "stream",
     "text": [
      "Number of outliers:\n",
      "Patient_ID               0\n",
      "Age                      9\n",
      "Gender                   0\n",
      "Admission_Type           0\n",
      "Diagnosis                0\n",
      "Num_Lab_Procedures       0\n",
      "Num_Medications          0\n",
      "Num_Outpatient_Visits    0\n",
      "Num_Inpatient_Visits     0\n",
      "Num_Emergency_Visits     0\n",
      "Num_Diagnoses            0\n",
      "A1C_Result               0\n",
      "Readmitted               0\n",
      "dtype: int64\n"
     ]
    }
   ],
   "source": [
    "# Calculate quartiles and IQR\n",
    "Q1 = A1C_Not_Null.quantile(0.25)\n",
    "Q3 = A1C_Not_Null.quantile(0.75)\n",
    "IQR = Q3 - Q1\n",
    "\n",
    "# Calculate upper and lower bounds for outliers\n",
    "upper_bound = Q3 + 1.5 * IQR\n",
    "lower_bound = Q1 - 1.5 * IQR\n",
    "\n",
    "# Identify outliers\n",
    "outliers = A1C_Not_Null[(A1C_Not_Null < lower_bound) | (A1C_Not_Null > upper_bound)]\n",
    "\n",
    "# Count outliers\n",
    "num_outliers = outliers.count()\n",
    "\n",
    "print(\"Number of outliers:\")\n",
    "print(num_outliers)"
   ]
  },
  {
   "cell_type": "code",
   "execution_count": 156,
   "id": "a801a86e",
   "metadata": {},
   "outputs": [],
   "source": [
    "# find outlier using Z-score"
   ]
  },
  {
   "cell_type": "code",
   "execution_count": 157,
   "id": "a02b764f",
   "metadata": {},
   "outputs": [],
   "source": [
    "df_age = A1C_Not_Null[\"Age\"]"
   ]
  },
  {
   "cell_type": "code",
   "execution_count": 158,
   "id": "a524c6a3",
   "metadata": {},
   "outputs": [
    {
     "name": "stdout",
     "output_type": "stream",
     "text": [
      "Outliers from Z-scores method:  [150, 150, 150, 150, 150, 150, 150, 150, 150]\n"
     ]
    }
   ],
   "source": [
    "import numpy as np\n",
    "outliers = []\n",
    "def detect_outliers_zscore(data):\n",
    "    thres = 3\n",
    "    mean = np.mean(data)\n",
    "    std = np.std(data)\n",
    "    # print(mean, std)\n",
    "    for i in data:\n",
    "        z_score = (i-mean)/std\n",
    "        if (np.abs(z_score) > thres):\n",
    "            outliers.append(i)\n",
    "    return outliers# Driver code\n",
    "\n",
    "sample_outliers = detect_outliers_zscore(df_age)\n",
    "print(\"Outliers from Z-scores method: \", sample_outliers)"
   ]
  },
  {
   "cell_type": "code",
   "execution_count": 159,
   "id": "53912e66",
   "metadata": {},
   "outputs": [],
   "source": [
    "# converts all the values above the upper threshold to the upper threshold value\n",
    "# converts all the values below the lower threshold to the lower threshold value\n",
    "\n",
    "def outlier(df,col):\n",
    "    Q1 = df[col].quantile(0.25)\n",
    "    Q3 = df[col].quantile(0.75)\n",
    "\n",
    "    IQR = Q3-Q1\n",
    "\n",
    "    upper_threshold = Q3 + (1.5*IQR)\n",
    "    lower_threshold = Q1 - (1.5*IQR)\n",
    "\n",
    "    df[\"Age_New\"] = df[col].clip(lower_threshold, upper_threshold)"
   ]
  },
  {
   "cell_type": "code",
   "execution_count": 160,
   "id": "f9669f35",
   "metadata": {},
   "outputs": [],
   "source": [
    "outlier(A1C_Not_Null,\"Age\")"
   ]
  },
  {
   "cell_type": "code",
   "execution_count": 161,
   "id": "7ee66b37",
   "metadata": {},
   "outputs": [],
   "source": [
    "# Box plot after handling outlier"
   ]
  },
  {
   "cell_type": "code",
   "execution_count": 162,
   "id": "33eb7e40",
   "metadata": {
    "scrolled": false
   },
   "outputs": [
    {
     "data": {
      "text/plain": [
       "<Axes: ylabel='Age_New'>"
      ]
     },
     "execution_count": 162,
     "metadata": {},
     "output_type": "execute_result"
    },
    {
     "data": {
      "image/png": "[encoded data removed]",
      "text/plain": [
       "<Figure size 300x500 with 1 Axes>"
      ]
     },
     "metadata": {},
     "output_type": "display_data"
    }
   ],
   "source": [
    "plt.figure(figsize=(3, 5))\n",
    "sns.boxplot(data=A1C_Not_Null, y=A1C_Not_Null[\"Age_New\"])"
   ]
  },
  {
   "cell_type": "code",
   "execution_count": null,
   "id": "b7587484",
   "metadata": {},
   "outputs": [],
   "source": []
  },
  {
   "cell_type": "code",
   "execution_count": 163,
   "id": "df6330b0",
   "metadata": {
    "scrolled": false
   },
   "outputs": [
    {
     "data": {
      "text/html": [
       "<div>\n",
       "<style scoped>\n",
       "    .dataframe tbody tr th:only-of-type {\n",
       "        vertical-align: middle;\n",
       "    }\n",
       "\n",
       "    .dataframe tbody tr th {\n",
       "        vertical-align: top;\n",
       "    }\n",
       "\n",
       "    .dataframe thead th {\n",
       "        text-align: right;\n",
       "    }\n",
       "</style>\n",
       "<table border=\"1\" class=\"dataframe\">\n",
       "  <thead>\n",
       "    <tr style=\"text-align: right;\">\n",
       "      <th></th>\n",
       "      <th>count</th>\n",
       "      <th>mean</th>\n",
       "      <th>std</th>\n",
       "      <th>min</th>\n",
       "      <th>25%</th>\n",
       "      <th>50%</th>\n",
       "      <th>75%</th>\n",
       "      <th>max</th>\n",
       "    </tr>\n",
       "  </thead>\n",
       "  <tbody>\n",
       "    <tr>\n",
       "      <th>Patient_ID</th>\n",
       "      <td>566.0</td>\n",
       "      <td>509.724382</td>\n",
       "      <td>290.966303</td>\n",
       "      <td>3.0</td>\n",
       "      <td>250.5</td>\n",
       "      <td>520.5</td>\n",
       "      <td>768.75</td>\n",
       "      <td>1000.0</td>\n",
       "    </tr>\n",
       "    <tr>\n",
       "      <th>Age</th>\n",
       "      <td>566.0</td>\n",
       "      <td>53.899293</td>\n",
       "      <td>23.053353</td>\n",
       "      <td>18.0</td>\n",
       "      <td>36.0</td>\n",
       "      <td>53.0</td>\n",
       "      <td>71.00</td>\n",
       "      <td>150.0</td>\n",
       "    </tr>\n",
       "    <tr>\n",
       "      <th>Gender</th>\n",
       "      <td>566.0</td>\n",
       "      <td>0.964664</td>\n",
       "      <td>0.812832</td>\n",
       "      <td>0.0</td>\n",
       "      <td>0.0</td>\n",
       "      <td>1.0</td>\n",
       "      <td>2.00</td>\n",
       "      <td>2.0</td>\n",
       "    </tr>\n",
       "    <tr>\n",
       "      <th>Admission_Type</th>\n",
       "      <td>566.0</td>\n",
       "      <td>0.959364</td>\n",
       "      <td>0.807120</td>\n",
       "      <td>0.0</td>\n",
       "      <td>0.0</td>\n",
       "      <td>1.0</td>\n",
       "      <td>2.00</td>\n",
       "      <td>2.0</td>\n",
       "    </tr>\n",
       "    <tr>\n",
       "      <th>Diagnosis</th>\n",
       "      <td>566.0</td>\n",
       "      <td>1.450530</td>\n",
       "      <td>1.150694</td>\n",
       "      <td>0.0</td>\n",
       "      <td>0.0</td>\n",
       "      <td>1.0</td>\n",
       "      <td>2.75</td>\n",
       "      <td>3.0</td>\n",
       "    </tr>\n",
       "    <tr>\n",
       "      <th>Num_Lab_Procedures</th>\n",
       "      <td>566.0</td>\n",
       "      <td>50.448763</td>\n",
       "      <td>28.663751</td>\n",
       "      <td>1.0</td>\n",
       "      <td>27.0</td>\n",
       "      <td>51.0</td>\n",
       "      <td>76.00</td>\n",
       "      <td>99.0</td>\n",
       "    </tr>\n",
       "    <tr>\n",
       "      <th>Num_Medications</th>\n",
       "      <td>566.0</td>\n",
       "      <td>15.646643</td>\n",
       "      <td>8.336860</td>\n",
       "      <td>1.0</td>\n",
       "      <td>8.0</td>\n",
       "      <td>16.0</td>\n",
       "      <td>23.00</td>\n",
       "      <td>35.0</td>\n",
       "    </tr>\n",
       "    <tr>\n",
       "      <th>Num_Outpatient_Visits</th>\n",
       "      <td>566.0</td>\n",
       "      <td>1.996466</td>\n",
       "      <td>1.395310</td>\n",
       "      <td>0.0</td>\n",
       "      <td>1.0</td>\n",
       "      <td>2.0</td>\n",
       "      <td>3.00</td>\n",
       "      <td>4.0</td>\n",
       "    </tr>\n",
       "    <tr>\n",
       "      <th>Num_Inpatient_Visits</th>\n",
       "      <td>566.0</td>\n",
       "      <td>1.959364</td>\n",
       "      <td>1.410495</td>\n",
       "      <td>0.0</td>\n",
       "      <td>1.0</td>\n",
       "      <td>2.0</td>\n",
       "      <td>3.00</td>\n",
       "      <td>4.0</td>\n",
       "    </tr>\n",
       "    <tr>\n",
       "      <th>Num_Emergency_Visits</th>\n",
       "      <td>566.0</td>\n",
       "      <td>1.945230</td>\n",
       "      <td>1.411271</td>\n",
       "      <td>0.0</td>\n",
       "      <td>1.0</td>\n",
       "      <td>2.0</td>\n",
       "      <td>3.00</td>\n",
       "      <td>4.0</td>\n",
       "    </tr>\n",
       "    <tr>\n",
       "      <th>Num_Diagnoses</th>\n",
       "      <td>566.0</td>\n",
       "      <td>5.056537</td>\n",
       "      <td>2.670783</td>\n",
       "      <td>1.0</td>\n",
       "      <td>3.0</td>\n",
       "      <td>5.0</td>\n",
       "      <td>7.00</td>\n",
       "      <td>9.0</td>\n",
       "    </tr>\n",
       "    <tr>\n",
       "      <th>A1C_Result</th>\n",
       "      <td>566.0</td>\n",
       "      <td>0.468198</td>\n",
       "      <td>0.499429</td>\n",
       "      <td>0.0</td>\n",
       "      <td>0.0</td>\n",
       "      <td>0.0</td>\n",
       "      <td>1.00</td>\n",
       "      <td>1.0</td>\n",
       "    </tr>\n",
       "    <tr>\n",
       "      <th>Readmitted</th>\n",
       "      <td>566.0</td>\n",
       "      <td>0.501767</td>\n",
       "      <td>0.500439</td>\n",
       "      <td>0.0</td>\n",
       "      <td>0.0</td>\n",
       "      <td>1.0</td>\n",
       "      <td>1.00</td>\n",
       "      <td>1.0</td>\n",
       "    </tr>\n",
       "    <tr>\n",
       "      <th>Age_New</th>\n",
       "      <td>566.0</td>\n",
       "      <td>53.477915</td>\n",
       "      <td>21.478657</td>\n",
       "      <td>18.0</td>\n",
       "      <td>36.0</td>\n",
       "      <td>53.0</td>\n",
       "      <td>71.00</td>\n",
       "      <td>123.5</td>\n",
       "    </tr>\n",
       "  </tbody>\n",
       "</table>\n",
       "</div>"
      ],
      "text/plain": [
       "                       count        mean         std   min    25%    50%  \\\n",
       "Patient_ID             566.0  509.724382  290.966303   3.0  250.5  520.5   \n",
       "Age                    566.0   53.899293   23.053353  18.0   36.0   53.0   \n",
       "Gender                 566.0    0.964664    0.812832   0.0    0.0    1.0   \n",
       "Admission_Type         566.0    0.959364    0.807120   0.0    0.0    1.0   \n",
       "Diagnosis              566.0    1.450530    1.150694   0.0    0.0    1.0   \n",
       "Num_Lab_Procedures     566.0   50.448763   28.663751   1.0   27.0   51.0   \n",
       "Num_Medications        566.0   15.646643    8.336860   1.0    8.0   16.0   \n",
       "Num_Outpatient_Visits  566.0    1.996466    1.395310   0.0    1.0    2.0   \n",
       "Num_Inpatient_Visits   566.0    1.959364    1.410495   0.0    1.0    2.0   \n",
       "Num_Emergency_Visits   566.0    1.945230    1.411271   0.0    1.0    2.0   \n",
       "Num_Diagnoses          566.0    5.056537    2.670783   1.0    3.0    5.0   \n",
       "A1C_Result             566.0    0.468198    0.499429   0.0    0.0    0.0   \n",
       "Readmitted             566.0    0.501767    0.500439   0.0    0.0    1.0   \n",
       "Age_New                566.0   53.477915   21.478657  18.0   36.0   53.0   \n",
       "\n",
       "                          75%     max  \n",
       "Patient_ID             768.75  1000.0  \n",
       "Age                     71.00   150.0  \n",
       "Gender                   2.00     2.0  \n",
       "Admission_Type           2.00     2.0  \n",
       "Diagnosis                2.75     3.0  \n",
       "Num_Lab_Procedures      76.00    99.0  \n",
       "Num_Medications         23.00    35.0  \n",
       "Num_Outpatient_Visits    3.00     4.0  \n",
       "Num_Inpatient_Visits     3.00     4.0  \n",
       "Num_Emergency_Visits     3.00     4.0  \n",
       "Num_Diagnoses            7.00     9.0  \n",
       "A1C_Result               1.00     1.0  \n",
       "Readmitted               1.00     1.0  \n",
       "Age_New                 71.00   123.5  "
      ]
     },
     "execution_count": 163,
     "metadata": {},
     "output_type": "execute_result"
    }
   ],
   "source": [
    "A1C_Not_Null.describe().T"
   ]
  },
  {
   "cell_type": "code",
   "execution_count": 164,
   "id": "9e1fbd22",
   "metadata": {},
   "outputs": [],
   "source": [
    "# droping the 'age' column"
   ]
  },
  {
   "cell_type": "code",
   "execution_count": 165,
   "id": "f2f0dfc2",
   "metadata": {},
   "outputs": [],
   "source": [
    "A1C_Not_Null_1 = A1C_Not_Null.drop(columns=[\"Age\"], axis=1)"
   ]
  },
  {
   "cell_type": "markdown",
   "id": "ca6a0eab",
   "metadata": {},
   "source": [
    "## Handling Skwness"
   ]
  },
  {
   "cell_type": "code",
   "execution_count": 166,
   "id": "a021c4b6",
   "metadata": {},
   "outputs": [],
   "source": [
    "# Function for histogram \n",
    "def plot_histograms(df, cols):\n",
    "\n",
    "    plt.figure(figsize=(8, 15))\n",
    "\n",
    "    for i, col in enumerate(cols):\n",
    "        plt.subplot(7,2, i+1)\n",
    "        sns.histplot(df[col],kde= True, bins=30, color=\"salmon\") \n",
    "        plt.title(col)\n",
    "    plt.tight_layout()\n",
    "    plt.show()"
   ]
  },
  {
   "cell_type": "code",
   "execution_count": 167,
   "id": "eda5ee5e",
   "metadata": {},
   "outputs": [
    {
     "data": {
      "image/png": "[encoded data removed]",
      "text/plain": [
       "<Figure size 800x1500 with 13 Axes>"
      ]
     },
     "metadata": {},
     "output_type": "display_data"
    }
   ],
   "source": [
    "columns = A1C_Not_Null_1.columns\n",
    "plot_histograms(A1C_Not_Null_1, columns)"
   ]
  },
  {
   "cell_type": "code",
   "execution_count": 168,
   "id": "a9a09414",
   "metadata": {},
   "outputs": [
    {
     "data": {
      "text/plain": [
       "Patient_ID              -0.058455\n",
       "Gender                   0.064814\n",
       "Admission_Type           0.074008\n",
       "Diagnosis                0.051406\n",
       "Num_Lab_Procedures      -0.067852\n",
       "Num_Medications         -0.010890\n",
       "Num_Outpatient_Visits   -0.009376\n",
       "Num_Inpatient_Visits     0.057011\n",
       "Num_Emergency_Visits     0.074561\n",
       "Num_Diagnoses           -0.084812\n",
       "A1C_Result               0.127806\n",
       "Readmitted              -0.007086\n",
       "Age_New                  0.332362\n",
       "dtype: float64"
      ]
     },
     "execution_count": 168,
     "metadata": {},
     "output_type": "execute_result"
    }
   ],
   "source": [
    "A1C_Not_Null_1.skew()"
   ]
  },
  {
   "cell_type": "markdown",
   "id": "8b122a19",
   "metadata": {},
   "source": [
    "    Skewness is a measure of lack of symmetry\n",
    "    Skewness value range from -1 to 1:\n",
    "\n",
    "- If the skewness is between -0.5 and 0.5, the distribution is approximately symmetric.\n",
    "- If the skewness is less than -0.5, the distribution is negatively skewed (left-skewed).\n",
    "- If the skewness is greater than 0.5, the distribution is positively skewed (right-skewed)."
   ]
  },
  {
   "cell_type": "markdown",
   "id": "b0d6f8a1",
   "metadata": {},
   "source": [
    "# Feature Selection"
   ]
  },
  {
   "cell_type": "code",
   "execution_count": 169,
   "id": "ebc80bf8",
   "metadata": {},
   "outputs": [
    {
     "data": {
      "image/png": "[encoded data removed]",
      "text/plain": [
       "<Figure size 1200x600 with 2 Axes>"
      ]
     },
     "metadata": {},
     "output_type": "display_data"
    }
   ],
   "source": [
    "# head map\n",
    "plt.figure(figsize=(12,6))\n",
    "sns.heatmap(A1C_Not_Null_1.corr(), annot=True, cmap=\"Reds\")\n",
    "plt.show()"
   ]
  },
  {
   "cell_type": "code",
   "execution_count": 170,
   "id": "543d7996",
   "metadata": {},
   "outputs": [],
   "source": [
    "# Import library for VIF\n",
    "from statsmodels.stats.outliers_influence import variance_inflation_factor\n",
    "\n",
    "def calc_vif(X):\n",
    "\n",
    "    # Calculating VIF\n",
    "    vif = pd.DataFrame()\n",
    "    vif[\"variables\"] = X.columns\n",
    "    vif[\"VIF\"] = [variance_inflation_factor(X.values, i) for i in range(X.shape[1])]\n",
    "\n",
    "    return(vif)"
   ]
  },
  {
   "cell_type": "code",
   "execution_count": 171,
   "id": "92e2c944",
   "metadata": {},
   "outputs": [
    {
     "data": {
      "text/html": [
       "<div>\n",
       "<style scoped>\n",
       "    .dataframe tbody tr th:only-of-type {\n",
       "        vertical-align: middle;\n",
       "    }\n",
       "\n",
       "    .dataframe tbody tr th {\n",
       "        vertical-align: top;\n",
       "    }\n",
       "\n",
       "    .dataframe thead th {\n",
       "        text-align: right;\n",
       "    }\n",
       "</style>\n",
       "<table border=\"1\" class=\"dataframe\">\n",
       "  <thead>\n",
       "    <tr style=\"text-align: right;\">\n",
       "      <th></th>\n",
       "      <th>variables</th>\n",
       "      <th>VIF</th>\n",
       "    </tr>\n",
       "  </thead>\n",
       "  <tbody>\n",
       "    <tr>\n",
       "      <th>0</th>\n",
       "      <td>Patient_ID</td>\n",
       "      <td>3.655061</td>\n",
       "    </tr>\n",
       "    <tr>\n",
       "      <th>1</th>\n",
       "      <td>Gender</td>\n",
       "      <td>2.330180</td>\n",
       "    </tr>\n",
       "    <tr>\n",
       "      <th>2</th>\n",
       "      <td>Admission_Type</td>\n",
       "      <td>2.370796</td>\n",
       "    </tr>\n",
       "    <tr>\n",
       "      <th>3</th>\n",
       "      <td>Diagnosis</td>\n",
       "      <td>2.459543</td>\n",
       "    </tr>\n",
       "    <tr>\n",
       "      <th>4</th>\n",
       "      <td>Num_Lab_Procedures</td>\n",
       "      <td>3.815165</td>\n",
       "    </tr>\n",
       "    <tr>\n",
       "      <th>5</th>\n",
       "      <td>Num_Medications</td>\n",
       "      <td>4.015730</td>\n",
       "    </tr>\n",
       "    <tr>\n",
       "      <th>6</th>\n",
       "      <td>Num_Outpatient_Visits</td>\n",
       "      <td>2.915883</td>\n",
       "    </tr>\n",
       "    <tr>\n",
       "      <th>7</th>\n",
       "      <td>Num_Inpatient_Visits</td>\n",
       "      <td>2.835830</td>\n",
       "    </tr>\n",
       "    <tr>\n",
       "      <th>8</th>\n",
       "      <td>Num_Emergency_Visits</td>\n",
       "      <td>2.866921</td>\n",
       "    </tr>\n",
       "    <tr>\n",
       "      <th>9</th>\n",
       "      <td>Num_Diagnoses</td>\n",
       "      <td>4.304706</td>\n",
       "    </tr>\n",
       "    <tr>\n",
       "      <th>10</th>\n",
       "      <td>A1C_Result</td>\n",
       "      <td>1.812314</td>\n",
       "    </tr>\n",
       "    <tr>\n",
       "      <th>11</th>\n",
       "      <td>Readmitted</td>\n",
       "      <td>2.008239</td>\n",
       "    </tr>\n",
       "    <tr>\n",
       "      <th>12</th>\n",
       "      <td>Age_New</td>\n",
       "      <td>5.745003</td>\n",
       "    </tr>\n",
       "  </tbody>\n",
       "</table>\n",
       "</div>"
      ],
      "text/plain": [
       "                variables       VIF\n",
       "0              Patient_ID  3.655061\n",
       "1                  Gender  2.330180\n",
       "2          Admission_Type  2.370796\n",
       "3               Diagnosis  2.459543\n",
       "4      Num_Lab_Procedures  3.815165\n",
       "5         Num_Medications  4.015730\n",
       "6   Num_Outpatient_Visits  2.915883\n",
       "7    Num_Inpatient_Visits  2.835830\n",
       "8    Num_Emergency_Visits  2.866921\n",
       "9           Num_Diagnoses  4.304706\n",
       "10             A1C_Result  1.812314\n",
       "11             Readmitted  2.008239\n",
       "12                Age_New  5.745003"
      ]
     },
     "execution_count": 171,
     "metadata": {},
     "output_type": "execute_result"
    }
   ],
   "source": [
    "calc_vif(A1C_Not_Null_1)"
   ]
  },
  {
   "cell_type": "markdown",
   "id": "7b78fab9",
   "metadata": {},
   "source": [
    "Variance Inflation Factor\n",
    "-  VIF values below 5 indicate that multicollinearity is not a significant concern, and the predictor variables are likely not highly correlated with each other.\n",
    "- VIF values between 5 and 10 suggest moderate multicollinearity.\n",
    "- VIF values above 10 indicate potentially severe multicollinearity. "
   ]
  },
  {
   "cell_type": "code",
   "execution_count": 172,
   "id": "a2b90e22",
   "metadata": {},
   "outputs": [],
   "source": [
    "# Droping the multicollinearity & unwanted columns             "
   ]
  },
  {
   "cell_type": "code",
   "execution_count": 173,
   "id": "ed3b4831",
   "metadata": {},
   "outputs": [],
   "source": [
    "A1C_Not_Null_2 = A1C_Not_Null_1.drop(columns=[\"Age_New\",\"Patient_ID\"], axis=1)"
   ]
  },
  {
   "cell_type": "code",
   "execution_count": 174,
   "id": "b59ac36c",
   "metadata": {},
   "outputs": [
    {
     "data": {
      "text/html": [
       "<div>\n",
       "<style scoped>\n",
       "    .dataframe tbody tr th:only-of-type {\n",
       "        vertical-align: middle;\n",
       "    }\n",
       "\n",
       "    .dataframe tbody tr th {\n",
       "        vertical-align: top;\n",
       "    }\n",
       "\n",
       "    .dataframe thead th {\n",
       "        text-align: right;\n",
       "    }\n",
       "</style>\n",
       "<table border=\"1\" class=\"dataframe\">\n",
       "  <thead>\n",
       "    <tr style=\"text-align: right;\">\n",
       "      <th></th>\n",
       "      <th>variables</th>\n",
       "      <th>VIF</th>\n",
       "    </tr>\n",
       "  </thead>\n",
       "  <tbody>\n",
       "    <tr>\n",
       "      <th>0</th>\n",
       "      <td>Gender</td>\n",
       "      <td>2.253954</td>\n",
       "    </tr>\n",
       "    <tr>\n",
       "      <th>1</th>\n",
       "      <td>Admission_Type</td>\n",
       "      <td>2.318353</td>\n",
       "    </tr>\n",
       "    <tr>\n",
       "      <th>2</th>\n",
       "      <td>Diagnosis</td>\n",
       "      <td>2.399551</td>\n",
       "    </tr>\n",
       "    <tr>\n",
       "      <th>3</th>\n",
       "      <td>Num_Lab_Procedures</td>\n",
       "      <td>3.543695</td>\n",
       "    </tr>\n",
       "    <tr>\n",
       "      <th>4</th>\n",
       "      <td>Num_Medications</td>\n",
       "      <td>3.875371</td>\n",
       "    </tr>\n",
       "    <tr>\n",
       "      <th>5</th>\n",
       "      <td>Num_Outpatient_Visits</td>\n",
       "      <td>2.836786</td>\n",
       "    </tr>\n",
       "    <tr>\n",
       "      <th>6</th>\n",
       "      <td>Num_Inpatient_Visits</td>\n",
       "      <td>2.713951</td>\n",
       "    </tr>\n",
       "    <tr>\n",
       "      <th>7</th>\n",
       "      <td>Num_Emergency_Visits</td>\n",
       "      <td>2.792111</td>\n",
       "    </tr>\n",
       "    <tr>\n",
       "      <th>8</th>\n",
       "      <td>Num_Diagnoses</td>\n",
       "      <td>4.092847</td>\n",
       "    </tr>\n",
       "    <tr>\n",
       "      <th>9</th>\n",
       "      <td>A1C_Result</td>\n",
       "      <td>1.799921</td>\n",
       "    </tr>\n",
       "    <tr>\n",
       "      <th>10</th>\n",
       "      <td>Readmitted</td>\n",
       "      <td>1.975495</td>\n",
       "    </tr>\n",
       "  </tbody>\n",
       "</table>\n",
       "</div>"
      ],
      "text/plain": [
       "                variables       VIF\n",
       "0                  Gender  2.253954\n",
       "1          Admission_Type  2.318353\n",
       "2               Diagnosis  2.399551\n",
       "3      Num_Lab_Procedures  3.543695\n",
       "4         Num_Medications  3.875371\n",
       "5   Num_Outpatient_Visits  2.836786\n",
       "6    Num_Inpatient_Visits  2.713951\n",
       "7    Num_Emergency_Visits  2.792111\n",
       "8           Num_Diagnoses  4.092847\n",
       "9              A1C_Result  1.799921\n",
       "10             Readmitted  1.975495"
      ]
     },
     "execution_count": 174,
     "metadata": {},
     "output_type": "execute_result"
    }
   ],
   "source": [
    "calc_vif(A1C_Not_Null_2)"
   ]
  },
  {
   "cell_type": "code",
   "execution_count": 175,
   "id": "ac60bd55",
   "metadata": {},
   "outputs": [
    {
     "data": {
      "text/plain": [
       "Gender                   0\n",
       "Admission_Type           0\n",
       "Diagnosis                0\n",
       "Num_Lab_Procedures       0\n",
       "Num_Medications          0\n",
       "Num_Outpatient_Visits    0\n",
       "Num_Inpatient_Visits     0\n",
       "Num_Emergency_Visits     0\n",
       "Num_Diagnoses            0\n",
       "A1C_Result               0\n",
       "Readmitted               0\n",
       "dtype: int64"
      ]
     },
     "execution_count": 175,
     "metadata": {},
     "output_type": "execute_result"
    }
   ],
   "source": [
    "A1C_Not_Null_2.isnull().sum()"
   ]
  },
  {
   "cell_type": "code",
   "execution_count": 176,
   "id": "85b149e6",
   "metadata": {},
   "outputs": [
    {
     "data": {
      "text/html": [
       "<div>\n",
       "<style scoped>\n",
       "    .dataframe tbody tr th:only-of-type {\n",
       "        vertical-align: middle;\n",
       "    }\n",
       "\n",
       "    .dataframe tbody tr th {\n",
       "        vertical-align: top;\n",
       "    }\n",
       "\n",
       "    .dataframe thead th {\n",
       "        text-align: right;\n",
       "    }\n",
       "</style>\n",
       "<table border=\"1\" class=\"dataframe\">\n",
       "  <thead>\n",
       "    <tr style=\"text-align: right;\">\n",
       "      <th></th>\n",
       "      <th>Gender</th>\n",
       "      <th>Admission_Type</th>\n",
       "      <th>Diagnosis</th>\n",
       "      <th>Num_Lab_Procedures</th>\n",
       "      <th>Num_Medications</th>\n",
       "      <th>Num_Outpatient_Visits</th>\n",
       "      <th>Num_Inpatient_Visits</th>\n",
       "      <th>Num_Emergency_Visits</th>\n",
       "      <th>Num_Diagnoses</th>\n",
       "      <th>A1C_Result</th>\n",
       "      <th>Readmitted</th>\n",
       "    </tr>\n",
       "  </thead>\n",
       "  <tbody>\n",
       "    <tr>\n",
       "      <th>2</th>\n",
       "      <td>0</td>\n",
       "      <td>2</td>\n",
       "      <td>1</td>\n",
       "      <td>75</td>\n",
       "      <td>29</td>\n",
       "      <td>4</td>\n",
       "      <td>0</td>\n",
       "      <td>3</td>\n",
       "      <td>5</td>\n",
       "      <td>1</td>\n",
       "      <td>0</td>\n",
       "    </tr>\n",
       "    <tr>\n",
       "      <th>7</th>\n",
       "      <td>0</td>\n",
       "      <td>0</td>\n",
       "      <td>1</td>\n",
       "      <td>28</td>\n",
       "      <td>19</td>\n",
       "      <td>4</td>\n",
       "      <td>0</td>\n",
       "      <td>3</td>\n",
       "      <td>7</td>\n",
       "      <td>1</td>\n",
       "      <td>1</td>\n",
       "    </tr>\n",
       "    <tr>\n",
       "      <th>8</th>\n",
       "      <td>1</td>\n",
       "      <td>2</td>\n",
       "      <td>2</td>\n",
       "      <td>70</td>\n",
       "      <td>23</td>\n",
       "      <td>1</td>\n",
       "      <td>2</td>\n",
       "      <td>4</td>\n",
       "      <td>6</td>\n",
       "      <td>1</td>\n",
       "      <td>0</td>\n",
       "    </tr>\n",
       "    <tr>\n",
       "      <th>9</th>\n",
       "      <td>1</td>\n",
       "      <td>1</td>\n",
       "      <td>3</td>\n",
       "      <td>41</td>\n",
       "      <td>24</td>\n",
       "      <td>4</td>\n",
       "      <td>0</td>\n",
       "      <td>0</td>\n",
       "      <td>3</td>\n",
       "      <td>0</td>\n",
       "      <td>0</td>\n",
       "    </tr>\n",
       "    <tr>\n",
       "      <th>11</th>\n",
       "      <td>0</td>\n",
       "      <td>1</td>\n",
       "      <td>3</td>\n",
       "      <td>68</td>\n",
       "      <td>14</td>\n",
       "      <td>2</td>\n",
       "      <td>4</td>\n",
       "      <td>2</td>\n",
       "      <td>5</td>\n",
       "      <td>0</td>\n",
       "      <td>0</td>\n",
       "    </tr>\n",
       "  </tbody>\n",
       "</table>\n",
       "</div>"
      ],
      "text/plain": [
       "    Gender  Admission_Type  Diagnosis  Num_Lab_Procedures  Num_Medications  \\\n",
       "2        0               2          1                  75               29   \n",
       "7        0               0          1                  28               19   \n",
       "8        1               2          2                  70               23   \n",
       "9        1               1          3                  41               24   \n",
       "11       0               1          3                  68               14   \n",
       "\n",
       "    Num_Outpatient_Visits  Num_Inpatient_Visits  Num_Emergency_Visits  \\\n",
       "2                       4                     0                     3   \n",
       "7                       4                     0                     3   \n",
       "8                       1                     2                     4   \n",
       "9                       4                     0                     0   \n",
       "11                      2                     4                     2   \n",
       "\n",
       "    Num_Diagnoses  A1C_Result  Readmitted  \n",
       "2               5           1           0  \n",
       "7               7           1           1  \n",
       "8               6           1           0  \n",
       "9               3           0           0  \n",
       "11              5           0           0  "
      ]
     },
     "execution_count": 176,
     "metadata": {},
     "output_type": "execute_result"
    }
   ],
   "source": [
    "A1C_Not_Null_2.head()"
   ]
  },
  {
   "cell_type": "code",
   "execution_count": 177,
   "id": "c97ad51b",
   "metadata": {},
   "outputs": [
    {
     "data": {
      "text/plain": [
       "(566, 11)"
      ]
     },
     "execution_count": 177,
     "metadata": {},
     "output_type": "execute_result"
    }
   ],
   "source": [
    "A1C_Not_Null_2.shape"
   ]
  },
  {
   "cell_type": "code",
   "execution_count": 178,
   "id": "8fb92352",
   "metadata": {},
   "outputs": [],
   "source": [
    "# saving with actual A1C values\n",
    "\n",
    "A1C_Not_Null_2.to_csv(\"hospital_with_actual_A1C.csv\", index= False)"
   ]
  },
  {
   "cell_type": "markdown",
   "id": "2e9dcfcb",
   "metadata": {},
   "source": [
    "#   Model to Predict A1C Values"
   ]
  },
  {
   "cell_type": "code",
   "execution_count": 179,
   "id": "be399b42",
   "metadata": {},
   "outputs": [],
   "source": [
    "# import\n",
    "from sklearn.model_selection import train_test_split\n",
    "from sklearn.metrics import accuracy_score, auc, roc_curve, confusion_matrix, classification_report\n",
    "\n",
    "from imblearn.combine import SMOTETomek\n",
    "\n",
    "from sklearn.linear_model import LogisticRegression\n",
    "from sklearn.svm import SVC\n",
    "from sklearn.tree import DecisionTreeClassifier\n",
    "from sklearn.ensemble import RandomForestClassifier\n",
    "from sklearn.ensemble import ExtraTreesClassifier\n",
    "from sklearn.ensemble import AdaBoostClassifier\n",
    "from sklearn.ensemble import GradientBoostingClassifier\n",
    "from xgboost import XGBClassifier\n",
    "\n",
    "import pickle"
   ]
  },
  {
   "cell_type": "code",
   "execution_count": 180,
   "id": "b499407a",
   "metadata": {},
   "outputs": [
    {
     "data": {
      "text/plain": [
       "Index(['Gender', 'Admission_Type', 'Diagnosis', 'Num_Lab_Procedures',\n",
       "       'Num_Medications', 'Num_Outpatient_Visits', 'Num_Inpatient_Visits',\n",
       "       'Num_Emergency_Visits', 'Num_Diagnoses', 'A1C_Result', 'Readmitted'],\n",
       "      dtype='object')"
      ]
     },
     "execution_count": 180,
     "metadata": {},
     "output_type": "execute_result"
    }
   ],
   "source": [
    "A1C_Not_Null_2.columns"
   ]
  },
  {
   "cell_type": "code",
   "execution_count": 181,
   "id": "e2ea4dc3",
   "metadata": {},
   "outputs": [
    {
     "data": {
      "text/plain": [
       "A1C_Result\n",
       "0    301\n",
       "1    265\n",
       "Name: count, dtype: int64"
      ]
     },
     "execution_count": 181,
     "metadata": {},
     "output_type": "execute_result"
    }
   ],
   "source": [
    "A1C_Not_Null_2[\"A1C_Result\"].value_counts()"
   ]
  },
  {
   "cell_type": "code",
   "execution_count": 182,
   "id": "d1743dd5",
   "metadata": {},
   "outputs": [],
   "source": [
    "# Data Splitting\n",
    "\n",
    "x = A1C_Not_Null_2.drop(columns=[\"A1C_Result\"],axis=1) #independent variables.\n",
    "y = A1C_Not_Null_2[\"A1C_Result\"] #dependent variable"
   ]
  },
  {
   "cell_type": "markdown",
   "id": "885f959c",
   "metadata": {},
   "source": [
    "### Handling Imbalanced feature &rarr; \"SMOTE-Tomek\"\n",
    "\n",
    "This method combines \n",
    "* SMOTE ability to generate synthetic data for minority class \n",
    "* Tomek has ability to remove the data that are identified as Tomek links from the majority class\n",
    "* Tomek links are pairs of instances from different classes that are very close to each other, but they are of different classes."
   ]
  },
  {
   "cell_type": "code",
   "execution_count": 183,
   "id": "a3a6e38c",
   "metadata": {},
   "outputs": [],
   "source": [
    "# balancing using smotetomek\n",
    "x_new, y_new = SMOTETomek().fit_resample(x,y)"
   ]
  },
  {
   "cell_type": "code",
   "execution_count": 184,
   "id": "7cf770bd",
   "metadata": {},
   "outputs": [
    {
     "name": "stdout",
     "output_type": "stream",
     "text": [
      "472\n",
      "472\n"
     ]
    }
   ],
   "source": [
    "print(len(x_new))\n",
    "print(len(y_new))"
   ]
  },
  {
   "cell_type": "code",
   "execution_count": null,
   "id": "a1fa3afb",
   "metadata": {},
   "outputs": [],
   "source": []
  },
  {
   "cell_type": "code",
   "execution_count": 185,
   "id": "942b64bf",
   "metadata": {},
   "outputs": [
    {
     "name": "stdout",
     "output_type": "stream",
     "text": [
      "{'Algorithm': 'Logistic Regression', 'Accuracy_Train': 0.5994694960212201, 'Accuracy_Test': 0.4842105263157895}\n"
     ]
    }
   ],
   "source": [
    "# Logistic Regression\n",
    "\n",
    "# splitting train & test \n",
    "x_train, x_test, y_train, y_test = train_test_split(x_new, y_new, test_size= 0.2, random_state=40)\n",
    "\n",
    "model = LogisticRegression(solver='liblinear').fit(x_train, y_train)\n",
    "\n",
    "y_pred_train = model.predict(x_train)\n",
    "y_pred_test = model.predict(x_test)\n",
    "\n",
    "#checking the accuracy_score\n",
    "accuracy_train = accuracy_score(y_train, y_pred_train)\n",
    "accuracy_test = accuracy_score(y_test, y_pred_test)\n",
    "\n",
    "metrics ={\"Algorithm\": \"Logistic Regression\",\n",
    "           \"Accuracy_Train\": accuracy_train,\n",
    "           \"Accuracy_Test\": accuracy_test}\n",
    "print(metrics)"
   ]
  },
  {
   "cell_type": "code",
   "execution_count": 186,
   "id": "f94436f6",
   "metadata": {},
   "outputs": [
    {
     "name": "stdout",
     "output_type": "stream",
     "text": [
      "{'Algorithm': 'SVM', 'Accuracy_Train': 1.0, 'Accuracy_Test': 0.5578947368421052}\n"
     ]
    }
   ],
   "source": [
    "# SVM Classification\n",
    "\n",
    "# splitting train & test \n",
    "x_train, x_test, y_train, y_test = train_test_split(x_new, y_new, test_size= 0.2, random_state=40)\n",
    "\n",
    "svm = SVC(kernel=\"rbf\", gamma=0.5, C=1.0)\n",
    "model = svm.fit(x_train, y_train)\n",
    "\n",
    "y_pred_train = model.predict(x_train)\n",
    "y_pred_test = model.predict(x_test)\n",
    "\n",
    "#checking the accuracy_score\n",
    "accuracy_train = accuracy_score(y_train, y_pred_train)\n",
    "accuracy_test = accuracy_score(y_test, y_pred_test)\n",
    "\n",
    "metrics ={\"Algorithm\": \"SVM\",\n",
    "           \"Accuracy_Train\": accuracy_train,\n",
    "           \"Accuracy_Test\": accuracy_test}\n",
    "print(metrics)"
   ]
  },
  {
   "cell_type": "code",
   "execution_count": 187,
   "id": "55f88781",
   "metadata": {},
   "outputs": [],
   "source": [
    "# Other classification algorithms\n",
    "\n",
    "def accuracy_checking(x_data, y_data, algorithm):\n",
    "    \n",
    "    # splitting train & test\n",
    "    x_train, x_test, y_train, y_test= train_test_split(x_data, y_data, test_size= 0.2, random_state=50)\n",
    "\n",
    "    model = algorithm().fit(x_train, y_train)\n",
    "\n",
    "    y_pred_train = model.predict(x_train)\n",
    "    y_pred_test = model.predict(x_test)\n",
    "\n",
    "    #checking the accuracy_score\n",
    "    accuracy_train = accuracy_score(y_train, y_pred_train)\n",
    "    accuracy_test = accuracy_score(y_test, y_pred_test)\n",
    "\n",
    "    metrics = {\"Algorithm\": algorithm.__name__,\n",
    "               \"Accuracy_Train\": accuracy_train,\n",
    "               \"Accuracy_Test\": accuracy_test}\n",
    "    return metrics"
   ]
  },
  {
   "cell_type": "code",
   "execution_count": 188,
   "id": "42836916",
   "metadata": {},
   "outputs": [
    {
     "name": "stdout",
     "output_type": "stream",
     "text": [
      "{'Algorithm': 'DecisionTreeClassifier', 'Accuracy_Train': 1.0, 'Accuracy_Test': 0.6736842105263158}\n",
      "{'Algorithm': 'RandomForestClassifier', 'Accuracy_Train': 1.0, 'Accuracy_Test': 0.5578947368421052}\n",
      "{'Algorithm': 'ExtraTreesClassifier', 'Accuracy_Train': 1.0, 'Accuracy_Test': 0.5894736842105263}\n",
      "{'Algorithm': 'AdaBoostClassifier', 'Accuracy_Train': 0.6657824933687002, 'Accuracy_Test': 0.5368421052631579}\n",
      "{'Algorithm': 'GradientBoostingClassifier', 'Accuracy_Train': 0.9416445623342176, 'Accuracy_Test': 0.5473684210526316}\n",
      "{'Algorithm': 'XGBClassifier', 'Accuracy_Train': 1.0, 'Accuracy_Test': 0.5894736842105263}\n"
     ]
    }
   ],
   "source": [
    "print(accuracy_checking(x_new,y_new,DecisionTreeClassifier))\n",
    "print(accuracy_checking(x_new,y_new,RandomForestClassifier))\n",
    "print(accuracy_checking(x_new,y_new,ExtraTreesClassifier))\n",
    "print(accuracy_checking(x_new,y_new,AdaBoostClassifier))\n",
    "print(accuracy_checking(x_new,y_new,GradientBoostingClassifier))\n",
    "print(accuracy_checking(x_new,y_new,XGBClassifier))"
   ]
  },
  {
   "cell_type": "code",
   "execution_count": null,
   "id": "a6b7fcec",
   "metadata": {},
   "outputs": [],
   "source": []
  },
  {
   "cell_type": "markdown",
   "id": "b7413fb6",
   "metadata": {},
   "source": [
    "## Cross Validation"
   ]
  },
  {
   "cell_type": "code",
   "execution_count": 189,
   "id": "4c60021e",
   "metadata": {},
   "outputs": [
    {
     "name": "stdout",
     "output_type": "stream",
     "text": [
      "Accuracy scores for each fold: [0.53684211 0.63157895 0.60638298 0.60638298 0.58510638]\n",
      "Mean Accuracy: 0.5932586786114222\n"
     ]
    }
   ],
   "source": [
    "# StratifiedKFold Cross Validation\n",
    "from sklearn.model_selection import cross_val_score, StratifiedKFold\n",
    "\n",
    "# Instantiate the classification model\n",
    "A1C_Model = GradientBoostingClassifier()\n",
    "\n",
    "# Instantiate Stratified K-Fold cross-validator\n",
    "skf = StratifiedKFold(n_splits=5, shuffle=True, random_state=42)\n",
    "\n",
    "# Perform Stratified K-Fold Cross-Validation and calculate accuracy for each fold\n",
    "accuracy_scores = cross_val_score(model, x_new, y_new, scoring='accuracy', cv=skf)\n",
    "mean_accuracy = np.mean(accuracy_scores)\n",
    "\n",
    "# Print\n",
    "print(\"Accuracy scores for each fold:\", accuracy_scores)\n",
    "print(\"Mean Accuracy:\", mean_accuracy)\n"
   ]
  },
  {
   "cell_type": "code",
   "execution_count": null,
   "id": "19e83081",
   "metadata": {},
   "outputs": [],
   "source": []
  },
  {
   "cell_type": "code",
   "execution_count": 190,
   "id": "78c89e09",
   "metadata": {},
   "outputs": [],
   "source": [
    "# Selected Model\n",
    "x_train, x_test, y_train, y_test= train_test_split(x_new, y_new, test_size= 0.2, random_state= 42)\n",
    "\n",
    "A1C_Model = GradientBoostingClassifier().fit(x_train, y_train)\n",
    " \n",
    "y_pred_train = model.predict(x_train)\n",
    "y_pred_test = model.predict(x_test)"
   ]
  },
  {
   "cell_type": "markdown",
   "id": "0465b958",
   "metadata": {},
   "source": [
    "### Performance Metrics"
   ]
  },
  {
   "cell_type": "code",
   "execution_count": 191,
   "id": "f6b76dbd",
   "metadata": {},
   "outputs": [
    {
     "name": "stdout",
     "output_type": "stream",
     "text": [
      "Accuracy score for Train and Test\n",
      "----------------------------------\n",
      "Accuracy_Train:  0.9177718832891246\n",
      "Accuracy_Test:  0.8842105263157894\n"
     ]
    }
   ],
   "source": [
    "# accuracy_score for train and test\n",
    "\n",
    "accuracy_train = accuracy_score(y_train, y_pred_train)\n",
    "accuracy_test = accuracy_score(y_test, y_pred_test)\n",
    "\n",
    "print(\"Accuracy score for Train and Test\")\n",
    "print(\"----------------------------------\")\n",
    "print(\"Accuracy_Train: \",accuracy_train)\n",
    "print(\"Accuracy_Test: \",accuracy_test)"
   ]
  },
  {
   "cell_type": "code",
   "execution_count": 192,
   "id": "07e11c1d",
   "metadata": {},
   "outputs": [
    {
     "name": "stdout",
     "output_type": "stream",
     "text": [
      "Confution_matrix for Test\n",
      "--------------------------\n",
      "[[40  0]\n",
      " [11 44]]\n"
     ]
    }
   ],
   "source": [
    "# confution matrics \n",
    "\n",
    "print(\"Confution_matrix for Test\")\n",
    "print(\"--------------------------\")\n",
    "print(confusion_matrix(y_true = y_test, y_pred = y_pred_test))"
   ]
  },
  {
   "cell_type": "code",
   "execution_count": 193,
   "id": "dcc7e3c1",
   "metadata": {},
   "outputs": [
    {
     "name": "stdout",
     "output_type": "stream",
     "text": [
      "Classification_report for Test\n",
      "-------------------------------\n",
      "              precision    recall  f1-score   support\n",
      "\n",
      "           0       0.78      1.00      0.88        40\n",
      "           1       1.00      0.80      0.89        55\n",
      "\n",
      "    accuracy                           0.88        95\n",
      "   macro avg       0.89      0.90      0.88        95\n",
      "weighted avg       0.91      0.88      0.88        95\n",
      "\n"
     ]
    }
   ],
   "source": [
    "# classification report typically includes metrics such as precision, recall, F1-score, and support\n",
    "\n",
    "print(\"Classification_report for Test\")\n",
    "print(\"-------------------------------\")\n",
    "print(classification_report(y_true= y_test, y_pred= y_pred_test))"
   ]
  },
  {
   "cell_type": "code",
   "execution_count": 194,
   "id": "14751bf8",
   "metadata": {},
   "outputs": [
    {
     "name": "stdout",
     "output_type": "stream",
     "text": [
      "[0. 0. 1.]\n",
      "[0.  0.8 1. ]\n",
      "[inf  1.  0.]\n"
     ]
    }
   ],
   "source": [
    "# Receiver Operating Characteristic (ROC) Curve\n",
    "\n",
    "FP, TP, Threshold = roc_curve(y_true=y_test, y_score=y_pred_test)\n",
    "\n",
    "print(FP)\n",
    "print(TP)\n",
    "print(Threshold)\n"
   ]
  },
  {
   "cell_type": "code",
   "execution_count": 195,
   "id": "a1759391",
   "metadata": {},
   "outputs": [
    {
     "name": "stdout",
     "output_type": "stream",
     "text": [
      "auc_curve:  0.9\n"
     ]
    }
   ],
   "source": [
    "# Area Under the Curve (AUC)\n",
    "\n",
    "auc_curve = auc(x=FP, y=TP)\n",
    "print(\"auc_curve: \", auc_curve)"
   ]
  },
  {
   "cell_type": "code",
   "execution_count": 196,
   "id": "071446ff",
   "metadata": {},
   "outputs": [
    {
     "data": {
      "image/png": "[encoded data removed]",
      "text/plain": [
       "<Figure size 640x480 with 1 Axes>"
      ]
     },
     "metadata": {},
     "output_type": "display_data"
    }
   ],
   "source": [
    "# create a plot for ROC and AUC curve\n",
    "\n",
    "roc_point= {\"ROC Curve (area)\":round(auc_curve, 2)}\n",
    "plt.plot(FP,TP,label= roc_point)\n",
    "plt.xlim([0.0, 1.0])\n",
    "plt.ylim([0.0, 1.1])\n",
    "plt.xlabel(\"False Positive\")\n",
    "plt.ylabel(\"True Positive\")\n",
    "plt.plot([0,1],[0,1],\"k--\")\n",
    "plt.legend(loc= \"lower right\")\n",
    "plt.show()"
   ]
  },
  {
   "cell_type": "code",
   "execution_count": null,
   "id": "0b71c861",
   "metadata": {},
   "outputs": [],
   "source": []
  },
  {
   "cell_type": "code",
   "execution_count": 197,
   "id": "096a58cc",
   "metadata": {},
   "outputs": [],
   "source": [
    "# Saving the Model unsing pickle\n",
    "with open(\"A1C_Model.pkl\",\"wb\") as m:\n",
    "    pickle.dump(A1C_Model, m)"
   ]
  },
  {
   "cell_type": "code",
   "execution_count": null,
   "id": "daeb3340",
   "metadata": {},
   "outputs": [],
   "source": []
  }
 ],
 "metadata": {
  "kernelspec": {
   "display_name": ".venv",
   "language": "python",
   "name": "python3"
  },
  "language_info": {
   "codemirror_mode": {
    "name": "ipython",
    "version": 3
   },
   "file_extension": ".py",
   "mimetype": "text/x-python",
   "name": "python",
   "nbconvert_exporter": "python",
   "pygments_lexer": "ipython3",
   "version": "3.13.1"
  }
 },
 "nbformat": 4,
 "nbformat_minor": 5
}
