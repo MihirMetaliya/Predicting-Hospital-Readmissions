{
 "cells": [
  {
   "cell_type": "markdown",
   "id": "c3e119dd",
   "metadata": {},
   "source": [
    "### Project 2 - Predicting Hospital Readmissions\n",
    "\n",
    "* Problem: Predict hospital readmissions within 30 days.\n",
    "* Objective: Build a predictive model for high-risk patients.\n",
    "* Tasks:\n",
    "    - Data Preprocessing\n",
    "    - Feature Engineering\n",
    "    - Model Building\n",
    "    - Model Evaluation\n"
   ]
  },
  {
   "cell_type": "code",
   "execution_count": 53,
   "id": "0e98f075",
   "metadata": {},
   "outputs": [],
   "source": [
    "import pandas as pd\n",
    "import numpy as np\n",
    "\n",
    "import matplotlib.pyplot as plt\n",
    "import seaborn as sns"
   ]
  },
  {
   "cell_type": "code",
   "execution_count": 54,
   "id": "6771e595",
   "metadata": {},
   "outputs": [],
   "source": [
    "import warnings\n",
    "warnings.filterwarnings(\"ignore\")"
   ]
  },
  {
   "cell_type": "markdown",
   "id": "00085ce9",
   "metadata": {},
   "source": [
    "## Read the Dataframe"
   ]
  },
  {
   "cell_type": "code",
   "execution_count": 55,
   "id": "12203ee0",
   "metadata": {},
   "outputs": [],
   "source": [
    "df_1 = pd.read_csv(\"hospital_readmissions_only_int.csv\")"
   ]
  },
  {
   "cell_type": "code",
   "execution_count": 56,
   "id": "3988a79b",
   "metadata": {},
   "outputs": [
    {
     "data": {
      "text/html": [
       "<div>\n",
       "<style scoped>\n",
       "    .dataframe tbody tr th:only-of-type {\n",
       "        vertical-align: middle;\n",
       "    }\n",
       "\n",
       "    .dataframe tbody tr th {\n",
       "        vertical-align: top;\n",
       "    }\n",
       "\n",
       "    .dataframe thead th {\n",
       "        text-align: right;\n",
       "    }\n",
       "</style>\n",
       "<table border=\"1\" class=\"dataframe\">\n",
       "  <thead>\n",
       "    <tr style=\"text-align: right;\">\n",
       "      <th></th>\n",
       "      <th>Patient_ID</th>\n",
       "      <th>Age</th>\n",
       "      <th>Gender</th>\n",
       "      <th>Admission_Type</th>\n",
       "      <th>Diagnosis</th>\n",
       "      <th>Num_Lab_Procedures</th>\n",
       "      <th>Num_Medications</th>\n",
       "      <th>Num_Outpatient_Visits</th>\n",
       "      <th>Num_Inpatient_Visits</th>\n",
       "      <th>Num_Emergency_Visits</th>\n",
       "      <th>Num_Diagnoses</th>\n",
       "      <th>A1C_Result</th>\n",
       "      <th>Readmitted</th>\n",
       "    </tr>\n",
       "  </thead>\n",
       "  <tbody>\n",
       "    <tr>\n",
       "      <th>0</th>\n",
       "      <td>1</td>\n",
       "      <td>69</td>\n",
       "      <td>2</td>\n",
       "      <td>1</td>\n",
       "      <td>1</td>\n",
       "      <td>33</td>\n",
       "      <td>2</td>\n",
       "      <td>4</td>\n",
       "      <td>1</td>\n",
       "      <td>1</td>\n",
       "      <td>5</td>\n",
       "      <td>2</td>\n",
       "      <td>1</td>\n",
       "    </tr>\n",
       "    <tr>\n",
       "      <th>1</th>\n",
       "      <td>2</td>\n",
       "      <td>32</td>\n",
       "      <td>0</td>\n",
       "      <td>2</td>\n",
       "      <td>0</td>\n",
       "      <td>81</td>\n",
       "      <td>10</td>\n",
       "      <td>4</td>\n",
       "      <td>4</td>\n",
       "      <td>1</td>\n",
       "      <td>6</td>\n",
       "      <td>2</td>\n",
       "      <td>0</td>\n",
       "    </tr>\n",
       "    <tr>\n",
       "      <th>2</th>\n",
       "      <td>3</td>\n",
       "      <td>78</td>\n",
       "      <td>0</td>\n",
       "      <td>2</td>\n",
       "      <td>1</td>\n",
       "      <td>75</td>\n",
       "      <td>29</td>\n",
       "      <td>4</td>\n",
       "      <td>0</td>\n",
       "      <td>3</td>\n",
       "      <td>5</td>\n",
       "      <td>1</td>\n",
       "      <td>0</td>\n",
       "    </tr>\n",
       "    <tr>\n",
       "      <th>3</th>\n",
       "      <td>4</td>\n",
       "      <td>38</td>\n",
       "      <td>1</td>\n",
       "      <td>0</td>\n",
       "      <td>0</td>\n",
       "      <td>77</td>\n",
       "      <td>11</td>\n",
       "      <td>2</td>\n",
       "      <td>3</td>\n",
       "      <td>4</td>\n",
       "      <td>9</td>\n",
       "      <td>2</td>\n",
       "      <td>1</td>\n",
       "    </tr>\n",
       "    <tr>\n",
       "      <th>4</th>\n",
       "      <td>5</td>\n",
       "      <td>41</td>\n",
       "      <td>0</td>\n",
       "      <td>2</td>\n",
       "      <td>0</td>\n",
       "      <td>50</td>\n",
       "      <td>25</td>\n",
       "      <td>3</td>\n",
       "      <td>4</td>\n",
       "      <td>1</td>\n",
       "      <td>3</td>\n",
       "      <td>2</td>\n",
       "      <td>1</td>\n",
       "    </tr>\n",
       "  </tbody>\n",
       "</table>\n",
       "</div>"
      ],
      "text/plain": [
       "   Patient_ID  Age  Gender  Admission_Type  Diagnosis  Num_Lab_Procedures  \\\n",
       "0           1   69       2               1          1                  33   \n",
       "1           2   32       0               2          0                  81   \n",
       "2           3   78       0               2          1                  75   \n",
       "3           4   38       1               0          0                  77   \n",
       "4           5   41       0               2          0                  50   \n",
       "\n",
       "   Num_Medications  Num_Outpatient_Visits  Num_Inpatient_Visits  \\\n",
       "0                2                      4                     1   \n",
       "1               10                      4                     4   \n",
       "2               29                      4                     0   \n",
       "3               11                      2                     3   \n",
       "4               25                      3                     4   \n",
       "\n",
       "   Num_Emergency_Visits  Num_Diagnoses  A1C_Result  Readmitted  \n",
       "0                     1              5           2           1  \n",
       "1                     1              6           2           0  \n",
       "2                     3              5           1           0  \n",
       "3                     4              9           2           1  \n",
       "4                     1              3           2           1  "
      ]
     },
     "execution_count": 56,
     "metadata": {},
     "output_type": "execute_result"
    }
   ],
   "source": [
    "df_1.head()"
   ]
  },
  {
   "cell_type": "code",
   "execution_count": null,
   "id": "f9dba455",
   "metadata": {},
   "outputs": [],
   "source": []
  },
  {
   "cell_type": "markdown",
   "id": "ef64cd1b",
   "metadata": {},
   "source": [
    "# Replacing the Unknown(2) values of A1C_Result"
   ]
  },
  {
   "cell_type": "code",
   "execution_count": 57,
   "id": "b0d2ff78",
   "metadata": {},
   "outputs": [],
   "source": [
    "# Drop rows where 'A1C_Result' has the value 'Unknown(2)'\n",
    "A1C_Null = df_1[df_1['A1C_Result'] == 2]"
   ]
  },
  {
   "cell_type": "code",
   "execution_count": 58,
   "id": "fcc2449e",
   "metadata": {
    "scrolled": true
   },
   "outputs": [
    {
     "data": {
      "text/html": [
       "<div>\n",
       "<style scoped>\n",
       "    .dataframe tbody tr th:only-of-type {\n",
       "        vertical-align: middle;\n",
       "    }\n",
       "\n",
       "    .dataframe tbody tr th {\n",
       "        vertical-align: top;\n",
       "    }\n",
       "\n",
       "    .dataframe thead th {\n",
       "        text-align: right;\n",
       "    }\n",
       "</style>\n",
       "<table border=\"1\" class=\"dataframe\">\n",
       "  <thead>\n",
       "    <tr style=\"text-align: right;\">\n",
       "      <th></th>\n",
       "      <th>Patient_ID</th>\n",
       "      <th>Age</th>\n",
       "      <th>Gender</th>\n",
       "      <th>Admission_Type</th>\n",
       "      <th>Diagnosis</th>\n",
       "      <th>Num_Lab_Procedures</th>\n",
       "      <th>Num_Medications</th>\n",
       "      <th>Num_Outpatient_Visits</th>\n",
       "      <th>Num_Inpatient_Visits</th>\n",
       "      <th>Num_Emergency_Visits</th>\n",
       "      <th>Num_Diagnoses</th>\n",
       "      <th>A1C_Result</th>\n",
       "      <th>Readmitted</th>\n",
       "    </tr>\n",
       "  </thead>\n",
       "  <tbody>\n",
       "    <tr>\n",
       "      <th>0</th>\n",
       "      <td>1</td>\n",
       "      <td>69</td>\n",
       "      <td>2</td>\n",
       "      <td>1</td>\n",
       "      <td>1</td>\n",
       "      <td>33</td>\n",
       "      <td>2</td>\n",
       "      <td>4</td>\n",
       "      <td>1</td>\n",
       "      <td>1</td>\n",
       "      <td>5</td>\n",
       "      <td>2</td>\n",
       "      <td>1</td>\n",
       "    </tr>\n",
       "    <tr>\n",
       "      <th>1</th>\n",
       "      <td>2</td>\n",
       "      <td>32</td>\n",
       "      <td>0</td>\n",
       "      <td>2</td>\n",
       "      <td>0</td>\n",
       "      <td>81</td>\n",
       "      <td>10</td>\n",
       "      <td>4</td>\n",
       "      <td>4</td>\n",
       "      <td>1</td>\n",
       "      <td>6</td>\n",
       "      <td>2</td>\n",
       "      <td>0</td>\n",
       "    </tr>\n",
       "    <tr>\n",
       "      <th>3</th>\n",
       "      <td>4</td>\n",
       "      <td>38</td>\n",
       "      <td>1</td>\n",
       "      <td>0</td>\n",
       "      <td>0</td>\n",
       "      <td>77</td>\n",
       "      <td>11</td>\n",
       "      <td>2</td>\n",
       "      <td>3</td>\n",
       "      <td>4</td>\n",
       "      <td>9</td>\n",
       "      <td>2</td>\n",
       "      <td>1</td>\n",
       "    </tr>\n",
       "    <tr>\n",
       "      <th>4</th>\n",
       "      <td>5</td>\n",
       "      <td>41</td>\n",
       "      <td>0</td>\n",
       "      <td>2</td>\n",
       "      <td>0</td>\n",
       "      <td>50</td>\n",
       "      <td>25</td>\n",
       "      <td>3</td>\n",
       "      <td>4</td>\n",
       "      <td>1</td>\n",
       "      <td>3</td>\n",
       "      <td>2</td>\n",
       "      <td>1</td>\n",
       "    </tr>\n",
       "    <tr>\n",
       "      <th>5</th>\n",
       "      <td>6</td>\n",
       "      <td>20</td>\n",
       "      <td>1</td>\n",
       "      <td>0</td>\n",
       "      <td>3</td>\n",
       "      <td>11</td>\n",
       "      <td>20</td>\n",
       "      <td>3</td>\n",
       "      <td>4</td>\n",
       "      <td>1</td>\n",
       "      <td>3</td>\n",
       "      <td>2</td>\n",
       "      <td>0</td>\n",
       "    </tr>\n",
       "  </tbody>\n",
       "</table>\n",
       "</div>"
      ],
      "text/plain": [
       "   Patient_ID  Age  Gender  Admission_Type  Diagnosis  Num_Lab_Procedures  \\\n",
       "0           1   69       2               1          1                  33   \n",
       "1           2   32       0               2          0                  81   \n",
       "3           4   38       1               0          0                  77   \n",
       "4           5   41       0               2          0                  50   \n",
       "5           6   20       1               0          3                  11   \n",
       "\n",
       "   Num_Medications  Num_Outpatient_Visits  Num_Inpatient_Visits  \\\n",
       "0                2                      4                     1   \n",
       "1               10                      4                     4   \n",
       "3               11                      2                     3   \n",
       "4               25                      3                     4   \n",
       "5               20                      3                     4   \n",
       "\n",
       "   Num_Emergency_Visits  Num_Diagnoses  A1C_Result  Readmitted  \n",
       "0                     1              5           2           1  \n",
       "1                     1              6           2           0  \n",
       "3                     4              9           2           1  \n",
       "4                     1              3           2           1  \n",
       "5                     1              3           2           0  "
      ]
     },
     "execution_count": 58,
     "metadata": {},
     "output_type": "execute_result"
    }
   ],
   "source": [
    "A1C_Null.head()"
   ]
  },
  {
   "cell_type": "code",
   "execution_count": 59,
   "id": "022f1606",
   "metadata": {},
   "outputs": [
    {
     "data": {
      "text/plain": [
       "array([2])"
      ]
     },
     "execution_count": 59,
     "metadata": {},
     "output_type": "execute_result"
    }
   ],
   "source": [
    "A1C_Null['A1C_Result'].unique()"
   ]
  },
  {
   "cell_type": "code",
   "execution_count": 60,
   "id": "2f557d2a",
   "metadata": {},
   "outputs": [
    {
     "data": {
      "text/plain": [
       "(434, 13)"
      ]
     },
     "execution_count": 60,
     "metadata": {},
     "output_type": "execute_result"
    }
   ],
   "source": [
    "A1C_Null.shape"
   ]
  },
  {
   "cell_type": "markdown",
   "id": "20e65b6f",
   "metadata": {},
   "source": [
    "## Handling Outliers"
   ]
  },
  {
   "cell_type": "code",
   "execution_count": 61,
   "id": "2acd4e0d",
   "metadata": {},
   "outputs": [],
   "source": [
    "# Find outlier using Boxplot"
   ]
  },
  {
   "cell_type": "code",
   "execution_count": 62,
   "id": "36314a2a",
   "metadata": {},
   "outputs": [],
   "source": [
    "# Function for box plot   \n",
    "def plot_box_plots(df, cols):\n",
    "\n",
    "    plt.figure(figsize=(10, 12))\n",
    "    \n",
    "    for i, col in enumerate(cols):\n",
    "        plt.subplot(4, 4, i + 1)\n",
    "        sns.boxplot(y=df[col])\n",
    "        plt.title(col)\n",
    "    plt.tight_layout()\n",
    "    plt.show()"
   ]
  },
  {
   "cell_type": "code",
   "execution_count": 63,
   "id": "b681c84a",
   "metadata": {},
   "outputs": [
    {
     "data": {
      "image/png": "[encoded data removed]",
      "text/plain": [
       "<Figure size 1000x1200 with 13 Axes>"
      ]
     },
     "metadata": {},
     "output_type": "display_data"
    }
   ],
   "source": [
    "columns = A1C_Null.columns\n",
    "plot_box_plots(A1C_Null, columns)"
   ]
  },
  {
   "cell_type": "code",
   "execution_count": 64,
   "id": "a52e2b4d",
   "metadata": {},
   "outputs": [],
   "source": [
    "# Find outlier using IQR"
   ]
  },
  {
   "cell_type": "code",
   "execution_count": 65,
   "id": "3c9a6437",
   "metadata": {
    "scrolled": false
   },
   "outputs": [
    {
     "name": "stdout",
     "output_type": "stream",
     "text": [
      "Number of outliers:\n",
      "Patient_ID               0\n",
      "Age                      1\n",
      "Gender                   0\n",
      "Admission_Type           0\n",
      "Diagnosis                0\n",
      "Num_Lab_Procedures       0\n",
      "Num_Medications          0\n",
      "Num_Outpatient_Visits    0\n",
      "Num_Inpatient_Visits     0\n",
      "Num_Emergency_Visits     0\n",
      "Num_Diagnoses            0\n",
      "A1C_Result               0\n",
      "Readmitted               0\n",
      "dtype: int64\n"
     ]
    }
   ],
   "source": [
    "# Calculate quartiles and IQR\n",
    "Q1 = A1C_Null.quantile(0.25)\n",
    "Q3 = A1C_Null.quantile(0.75)\n",
    "IQR = Q3 - Q1\n",
    "\n",
    "# Calculate upper and lower bounds for outliers\n",
    "upper_bound = Q3 + 1.5 * IQR\n",
    "lower_bound = Q1 - 1.5 * IQR\n",
    "\n",
    "# Identify outliers\n",
    "outliers = A1C_Null[(A1C_Null < lower_bound) | (A1C_Null > upper_bound)]\n",
    "\n",
    "# Count outliers\n",
    "num_outliers = outliers.count()\n",
    "\n",
    "print(\"Number of outliers:\")\n",
    "print(num_outliers)"
   ]
  },
  {
   "cell_type": "code",
   "execution_count": 66,
   "id": "a801a86e",
   "metadata": {},
   "outputs": [],
   "source": [
    "# find outlier using Z-score"
   ]
  },
  {
   "cell_type": "code",
   "execution_count": 67,
   "id": "a02b764f",
   "metadata": {},
   "outputs": [],
   "source": [
    "df_age = A1C_Null[\"Age\"]"
   ]
  },
  {
   "cell_type": "code",
   "execution_count": 68,
   "id": "a524c6a3",
   "metadata": {},
   "outputs": [
    {
     "name": "stdout",
     "output_type": "stream",
     "text": [
      "Outliers from Z-scores method:  [150]\n"
     ]
    }
   ],
   "source": [
    "import numpy as np\n",
    "outliers = []\n",
    "def detect_outliers_zscore(data):\n",
    "    thres = 3\n",
    "    mean = np.mean(data)\n",
    "    std = np.std(data)\n",
    "    # print(mean, std)\n",
    "    for i in data:\n",
    "        z_score = (i-mean)/std\n",
    "        if (np.abs(z_score) > thres):\n",
    "            outliers.append(i)\n",
    "    return outliers# Driver code\n",
    "\n",
    "sample_outliers = detect_outliers_zscore(df_age)\n",
    "print(\"Outliers from Z-scores method: \", sample_outliers)"
   ]
  },
  {
   "cell_type": "code",
   "execution_count": 69,
   "id": "53912e66",
   "metadata": {},
   "outputs": [],
   "source": [
    "# converts all the values above the upper threshold to the upper threshold value\n",
    "# converts all the values below the lower threshold to the lower threshold value\n",
    "\n",
    "def outlier(df,col):\n",
    "    Q1 = df[col].quantile(0.25)\n",
    "    Q3 = df[col].quantile(0.75)\n",
    "\n",
    "    IQR = Q3-Q1\n",
    "\n",
    "    upper_threshold = Q3 + (1.5*IQR)\n",
    "    lower_threshold = Q1 - (1.5*IQR)\n",
    "\n",
    "    df[\"Age_New\"] = df[col].clip(lower_threshold, upper_threshold)"
   ]
  },
  {
   "cell_type": "code",
   "execution_count": 70,
   "id": "f9669f35",
   "metadata": {},
   "outputs": [],
   "source": [
    "outlier(A1C_Null,\"Age\")"
   ]
  },
  {
   "cell_type": "code",
   "execution_count": 71,
   "id": "7ee66b37",
   "metadata": {},
   "outputs": [],
   "source": [
    "# Box plot after handling outlier"
   ]
  },
  {
   "cell_type": "code",
   "execution_count": 72,
   "id": "33eb7e40",
   "metadata": {
    "scrolled": false
   },
   "outputs": [
    {
     "data": {
      "text/plain": [
       "<Axes: ylabel='Age_New'>"
      ]
     },
     "execution_count": 72,
     "metadata": {},
     "output_type": "execute_result"
    },
    {
     "data": {
      "image/png": "[encoded data removed]",
      "text/plain": [
       "<Figure size 300x500 with 1 Axes>"
      ]
     },
     "metadata": {},
     "output_type": "display_data"
    }
   ],
   "source": [
    "plt.figure(figsize=(3, 5))\n",
    "sns.boxplot(data=A1C_Null, y=A1C_Null[\"Age_New\"])"
   ]
  },
  {
   "cell_type": "code",
   "execution_count": null,
   "id": "b7587484",
   "metadata": {},
   "outputs": [],
   "source": []
  },
  {
   "cell_type": "code",
   "execution_count": 73,
   "id": "df6330b0",
   "metadata": {
    "scrolled": false
   },
   "outputs": [
    {
     "data": {
      "text/html": [
       "<div>\n",
       "<style scoped>\n",
       "    .dataframe tbody tr th:only-of-type {\n",
       "        vertical-align: middle;\n",
       "    }\n",
       "\n",
       "    .dataframe tbody tr th {\n",
       "        vertical-align: top;\n",
       "    }\n",
       "\n",
       "    .dataframe thead th {\n",
       "        text-align: right;\n",
       "    }\n",
       "</style>\n",
       "<table border=\"1\" class=\"dataframe\">\n",
       "  <thead>\n",
       "    <tr style=\"text-align: right;\">\n",
       "      <th></th>\n",
       "      <th>count</th>\n",
       "      <th>mean</th>\n",
       "      <th>std</th>\n",
       "      <th>min</th>\n",
       "      <th>25%</th>\n",
       "      <th>50%</th>\n",
       "      <th>75%</th>\n",
       "      <th>max</th>\n",
       "    </tr>\n",
       "  </thead>\n",
       "  <tbody>\n",
       "    <tr>\n",
       "      <th>Patient_ID</th>\n",
       "      <td>434.0</td>\n",
       "      <td>488.470046</td>\n",
       "      <td>285.882597</td>\n",
       "      <td>1.0</td>\n",
       "      <td>251.5</td>\n",
       "      <td>474.5</td>\n",
       "      <td>723.75</td>\n",
       "      <td>995.000</td>\n",
       "    </tr>\n",
       "    <tr>\n",
       "      <th>Age</th>\n",
       "      <td>434.0</td>\n",
       "      <td>48.751152</td>\n",
       "      <td>20.176423</td>\n",
       "      <td>18.0</td>\n",
       "      <td>32.0</td>\n",
       "      <td>48.5</td>\n",
       "      <td>65.75</td>\n",
       "      <td>150.000</td>\n",
       "    </tr>\n",
       "    <tr>\n",
       "      <th>Gender</th>\n",
       "      <td>434.0</td>\n",
       "      <td>1.000000</td>\n",
       "      <td>0.804146</td>\n",
       "      <td>0.0</td>\n",
       "      <td>0.0</td>\n",
       "      <td>1.0</td>\n",
       "      <td>2.00</td>\n",
       "      <td>2.000</td>\n",
       "    </tr>\n",
       "    <tr>\n",
       "      <th>Admission_Type</th>\n",
       "      <td>434.0</td>\n",
       "      <td>0.990783</td>\n",
       "      <td>0.823953</td>\n",
       "      <td>0.0</td>\n",
       "      <td>0.0</td>\n",
       "      <td>1.0</td>\n",
       "      <td>2.00</td>\n",
       "      <td>2.000</td>\n",
       "    </tr>\n",
       "    <tr>\n",
       "      <th>Diagnosis</th>\n",
       "      <td>434.0</td>\n",
       "      <td>1.479263</td>\n",
       "      <td>1.108766</td>\n",
       "      <td>0.0</td>\n",
       "      <td>0.0</td>\n",
       "      <td>1.0</td>\n",
       "      <td>2.00</td>\n",
       "      <td>3.000</td>\n",
       "    </tr>\n",
       "    <tr>\n",
       "      <th>Num_Lab_Procedures</th>\n",
       "      <td>434.0</td>\n",
       "      <td>51.341014</td>\n",
       "      <td>27.313065</td>\n",
       "      <td>1.0</td>\n",
       "      <td>27.0</td>\n",
       "      <td>53.0</td>\n",
       "      <td>74.00</td>\n",
       "      <td>99.000</td>\n",
       "    </tr>\n",
       "    <tr>\n",
       "      <th>Num_Medications</th>\n",
       "      <td>434.0</td>\n",
       "      <td>15.679724</td>\n",
       "      <td>8.098482</td>\n",
       "      <td>1.0</td>\n",
       "      <td>9.0</td>\n",
       "      <td>15.0</td>\n",
       "      <td>23.00</td>\n",
       "      <td>35.000</td>\n",
       "    </tr>\n",
       "    <tr>\n",
       "      <th>Num_Outpatient_Visits</th>\n",
       "      <td>434.0</td>\n",
       "      <td>2.041475</td>\n",
       "      <td>1.407054</td>\n",
       "      <td>0.0</td>\n",
       "      <td>1.0</td>\n",
       "      <td>2.0</td>\n",
       "      <td>3.00</td>\n",
       "      <td>4.000</td>\n",
       "    </tr>\n",
       "    <tr>\n",
       "      <th>Num_Inpatient_Visits</th>\n",
       "      <td>434.0</td>\n",
       "      <td>2.096774</td>\n",
       "      <td>1.422303</td>\n",
       "      <td>0.0</td>\n",
       "      <td>1.0</td>\n",
       "      <td>2.0</td>\n",
       "      <td>3.00</td>\n",
       "      <td>4.000</td>\n",
       "    </tr>\n",
       "    <tr>\n",
       "      <th>Num_Emergency_Visits</th>\n",
       "      <td>434.0</td>\n",
       "      <td>1.970046</td>\n",
       "      <td>1.409806</td>\n",
       "      <td>0.0</td>\n",
       "      <td>1.0</td>\n",
       "      <td>2.0</td>\n",
       "      <td>3.00</td>\n",
       "      <td>4.000</td>\n",
       "    </tr>\n",
       "    <tr>\n",
       "      <th>Num_Diagnoses</th>\n",
       "      <td>434.0</td>\n",
       "      <td>4.951613</td>\n",
       "      <td>2.657502</td>\n",
       "      <td>1.0</td>\n",
       "      <td>3.0</td>\n",
       "      <td>5.0</td>\n",
       "      <td>7.00</td>\n",
       "      <td>9.000</td>\n",
       "    </tr>\n",
       "    <tr>\n",
       "      <th>A1C_Result</th>\n",
       "      <td>434.0</td>\n",
       "      <td>2.000000</td>\n",
       "      <td>0.000000</td>\n",
       "      <td>2.0</td>\n",
       "      <td>2.0</td>\n",
       "      <td>2.0</td>\n",
       "      <td>2.00</td>\n",
       "      <td>2.000</td>\n",
       "    </tr>\n",
       "    <tr>\n",
       "      <th>Readmitted</th>\n",
       "      <td>434.0</td>\n",
       "      <td>0.490783</td>\n",
       "      <td>0.500492</td>\n",
       "      <td>0.0</td>\n",
       "      <td>0.0</td>\n",
       "      <td>0.0</td>\n",
       "      <td>1.00</td>\n",
       "      <td>1.000</td>\n",
       "    </tr>\n",
       "    <tr>\n",
       "      <th>Age_New</th>\n",
       "      <td>434.0</td>\n",
       "      <td>48.673675</td>\n",
       "      <td>19.848629</td>\n",
       "      <td>18.0</td>\n",
       "      <td>32.0</td>\n",
       "      <td>48.5</td>\n",
       "      <td>65.75</td>\n",
       "      <td>116.375</td>\n",
       "    </tr>\n",
       "  </tbody>\n",
       "</table>\n",
       "</div>"
      ],
      "text/plain": [
       "                       count        mean         std   min    25%    50%  \\\n",
       "Patient_ID             434.0  488.470046  285.882597   1.0  251.5  474.5   \n",
       "Age                    434.0   48.751152   20.176423  18.0   32.0   48.5   \n",
       "Gender                 434.0    1.000000    0.804146   0.0    0.0    1.0   \n",
       "Admission_Type         434.0    0.990783    0.823953   0.0    0.0    1.0   \n",
       "Diagnosis              434.0    1.479263    1.108766   0.0    0.0    1.0   \n",
       "Num_Lab_Procedures     434.0   51.341014   27.313065   1.0   27.0   53.0   \n",
       "Num_Medications        434.0   15.679724    8.098482   1.0    9.0   15.0   \n",
       "Num_Outpatient_Visits  434.0    2.041475    1.407054   0.0    1.0    2.0   \n",
       "Num_Inpatient_Visits   434.0    2.096774    1.422303   0.0    1.0    2.0   \n",
       "Num_Emergency_Visits   434.0    1.970046    1.409806   0.0    1.0    2.0   \n",
       "Num_Diagnoses          434.0    4.951613    2.657502   1.0    3.0    5.0   \n",
       "A1C_Result             434.0    2.000000    0.000000   2.0    2.0    2.0   \n",
       "Readmitted             434.0    0.490783    0.500492   0.0    0.0    0.0   \n",
       "Age_New                434.0   48.673675   19.848629  18.0   32.0   48.5   \n",
       "\n",
       "                          75%      max  \n",
       "Patient_ID             723.75  995.000  \n",
       "Age                     65.75  150.000  \n",
       "Gender                   2.00    2.000  \n",
       "Admission_Type           2.00    2.000  \n",
       "Diagnosis                2.00    3.000  \n",
       "Num_Lab_Procedures      74.00   99.000  \n",
       "Num_Medications         23.00   35.000  \n",
       "Num_Outpatient_Visits    3.00    4.000  \n",
       "Num_Inpatient_Visits     3.00    4.000  \n",
       "Num_Emergency_Visits     3.00    4.000  \n",
       "Num_Diagnoses            7.00    9.000  \n",
       "A1C_Result               2.00    2.000  \n",
       "Readmitted               1.00    1.000  \n",
       "Age_New                 65.75  116.375  "
      ]
     },
     "execution_count": 73,
     "metadata": {},
     "output_type": "execute_result"
    }
   ],
   "source": [
    "A1C_Null.describe().T"
   ]
  },
  {
   "cell_type": "code",
   "execution_count": 74,
   "id": "9e1fbd22",
   "metadata": {},
   "outputs": [],
   "source": [
    "# droping the 'age' column"
   ]
  },
  {
   "cell_type": "code",
   "execution_count": 75,
   "id": "f2f0dfc2",
   "metadata": {},
   "outputs": [],
   "source": [
    "A1C_Null_1 = A1C_Null.drop(columns=[\"Age\"], axis=1)"
   ]
  },
  {
   "cell_type": "markdown",
   "id": "ca6a0eab",
   "metadata": {},
   "source": [
    "## Handling Skwness"
   ]
  },
  {
   "cell_type": "code",
   "execution_count": 76,
   "id": "a021c4b6",
   "metadata": {},
   "outputs": [],
   "source": [
    "# Function for histogram \n",
    "def plot_histograms(df, cols):\n",
    "\n",
    "    plt.figure(figsize=(8, 15))\n",
    "\n",
    "    for i, col in enumerate(cols):\n",
    "        plt.subplot(7,2, i+1)\n",
    "        sns.histplot(df[col],kde= True, bins=30, color=\"salmon\") \n",
    "        plt.title(col)\n",
    "    plt.tight_layout()\n",
    "    plt.show()"
   ]
  },
  {
   "cell_type": "code",
   "execution_count": 77,
   "id": "eda5ee5e",
   "metadata": {},
   "outputs": [
    {
     "data": {
      "image/png": "[encoded data removed]",
      "text/plain": [
       "<Figure size 800x1500 with 13 Axes>"
      ]
     },
     "metadata": {},
     "output_type": "display_data"
    }
   ],
   "source": [
    "columns = A1C_Null_1.columns\n",
    "plot_histograms(A1C_Null_1, columns)"
   ]
  },
  {
   "cell_type": "code",
   "execution_count": 78,
   "id": "a9a09414",
   "metadata": {},
   "outputs": [
    {
     "data": {
      "text/plain": [
       "Patient_ID               0.075914\n",
       "Gender                   0.000000\n",
       "Admission_Type           0.017123\n",
       "Diagnosis                0.011694\n",
       "Num_Lab_Procedures      -0.021948\n",
       "Num_Medications          0.038184\n",
       "Num_Outpatient_Visits   -0.018901\n",
       "Num_Inpatient_Visits    -0.050558\n",
       "Num_Emergency_Visits     0.088058\n",
       "Num_Diagnoses            0.067863\n",
       "A1C_Result               0.000000\n",
       "Readmitted               0.037001\n",
       "Age_New                  0.224498\n",
       "dtype: float64"
      ]
     },
     "execution_count": 78,
     "metadata": {},
     "output_type": "execute_result"
    }
   ],
   "source": [
    "A1C_Null_1.skew()"
   ]
  },
  {
   "cell_type": "markdown",
   "id": "8b122a19",
   "metadata": {},
   "source": [
    "    Skewness is a measure of lack of symmetry\n",
    "    Skewness value range from -1 to 1:\n",
    "\n",
    "- If the skewness is between -0.5 and 0.5, the distribution is approximately symmetric.\n",
    "- If the skewness is less than -0.5, the distribution is negatively skewed (left-skewed).\n",
    "- If the skewness is greater than 0.5, the distribution is positively skewed (right-skewed)."
   ]
  },
  {
   "cell_type": "markdown",
   "id": "b0d6f8a1",
   "metadata": {},
   "source": [
    "# Feature Selection"
   ]
  },
  {
   "cell_type": "code",
   "execution_count": 79,
   "id": "543d7996",
   "metadata": {},
   "outputs": [],
   "source": [
    "# Import library for VIF\n",
    "from statsmodels.stats.outliers_influence import variance_inflation_factor\n",
    "\n",
    "def calc_vif(X):\n",
    "\n",
    "    # Calculating VIF\n",
    "    vif = pd.DataFrame()\n",
    "    vif[\"variables\"] = X.columns\n",
    "    vif[\"VIF\"] = [variance_inflation_factor(X.values, i) for i in range(X.shape[1])]\n",
    "\n",
    "    return(vif)"
   ]
  },
  {
   "cell_type": "code",
   "execution_count": 80,
   "id": "92e2c944",
   "metadata": {},
   "outputs": [
    {
     "data": {
      "text/html": [
       "<div>\n",
       "<style scoped>\n",
       "    .dataframe tbody tr th:only-of-type {\n",
       "        vertical-align: middle;\n",
       "    }\n",
       "\n",
       "    .dataframe tbody tr th {\n",
       "        vertical-align: top;\n",
       "    }\n",
       "\n",
       "    .dataframe thead th {\n",
       "        text-align: right;\n",
       "    }\n",
       "</style>\n",
       "<table border=\"1\" class=\"dataframe\">\n",
       "  <thead>\n",
       "    <tr style=\"text-align: right;\">\n",
       "      <th></th>\n",
       "      <th>variables</th>\n",
       "      <th>VIF</th>\n",
       "    </tr>\n",
       "  </thead>\n",
       "  <tbody>\n",
       "    <tr>\n",
       "      <th>0</th>\n",
       "      <td>Patient_ID</td>\n",
       "      <td>1.036096</td>\n",
       "    </tr>\n",
       "    <tr>\n",
       "      <th>1</th>\n",
       "      <td>Gender</td>\n",
       "      <td>1.026774</td>\n",
       "    </tr>\n",
       "    <tr>\n",
       "      <th>2</th>\n",
       "      <td>Admission_Type</td>\n",
       "      <td>1.055873</td>\n",
       "    </tr>\n",
       "    <tr>\n",
       "      <th>3</th>\n",
       "      <td>Diagnosis</td>\n",
       "      <td>1.040362</td>\n",
       "    </tr>\n",
       "    <tr>\n",
       "      <th>4</th>\n",
       "      <td>Num_Lab_Procedures</td>\n",
       "      <td>1.045460</td>\n",
       "    </tr>\n",
       "    <tr>\n",
       "      <th>5</th>\n",
       "      <td>Num_Medications</td>\n",
       "      <td>1.035217</td>\n",
       "    </tr>\n",
       "    <tr>\n",
       "      <th>6</th>\n",
       "      <td>Num_Outpatient_Visits</td>\n",
       "      <td>1.024301</td>\n",
       "    </tr>\n",
       "    <tr>\n",
       "      <th>7</th>\n",
       "      <td>Num_Inpatient_Visits</td>\n",
       "      <td>1.030288</td>\n",
       "    </tr>\n",
       "    <tr>\n",
       "      <th>8</th>\n",
       "      <td>Num_Emergency_Visits</td>\n",
       "      <td>1.026881</td>\n",
       "    </tr>\n",
       "    <tr>\n",
       "      <th>9</th>\n",
       "      <td>Num_Diagnoses</td>\n",
       "      <td>1.023218</td>\n",
       "    </tr>\n",
       "    <tr>\n",
       "      <th>10</th>\n",
       "      <td>A1C_Result</td>\n",
       "      <td>32.258617</td>\n",
       "    </tr>\n",
       "    <tr>\n",
       "      <th>11</th>\n",
       "      <td>Readmitted</td>\n",
       "      <td>1.023793</td>\n",
       "    </tr>\n",
       "    <tr>\n",
       "      <th>12</th>\n",
       "      <td>Age_New</td>\n",
       "      <td>1.038727</td>\n",
       "    </tr>\n",
       "  </tbody>\n",
       "</table>\n",
       "</div>"
      ],
      "text/plain": [
       "                variables        VIF\n",
       "0              Patient_ID   1.036096\n",
       "1                  Gender   1.026774\n",
       "2          Admission_Type   1.055873\n",
       "3               Diagnosis   1.040362\n",
       "4      Num_Lab_Procedures   1.045460\n",
       "5         Num_Medications   1.035217\n",
       "6   Num_Outpatient_Visits   1.024301\n",
       "7    Num_Inpatient_Visits   1.030288\n",
       "8    Num_Emergency_Visits   1.026881\n",
       "9           Num_Diagnoses   1.023218\n",
       "10             A1C_Result  32.258617\n",
       "11             Readmitted   1.023793\n",
       "12                Age_New   1.038727"
      ]
     },
     "execution_count": 80,
     "metadata": {},
     "output_type": "execute_result"
    }
   ],
   "source": [
    "calc_vif(A1C_Null_1)"
   ]
  },
  {
   "cell_type": "markdown",
   "id": "95e67380",
   "metadata": {},
   "source": [
    "Variance Inflation Factor\n",
    "-  VIF values below 5 indicate that multicollinearity is not a significant concern, and the predictor variables are likely not highly correlated with each other.\n",
    "- VIF values between 5 and 10 suggest moderate multicollinearity.\n",
    "- VIF values above 10 indicate potentially severe multicollinearity. "
   ]
  },
  {
   "cell_type": "code",
   "execution_count": 81,
   "id": "a2b90e22",
   "metadata": {},
   "outputs": [],
   "source": [
    "# Droping the multicollinearity & unwanted columns             "
   ]
  },
  {
   "cell_type": "code",
   "execution_count": 82,
   "id": "ed3b4831",
   "metadata": {},
   "outputs": [],
   "source": [
    "A1C_Null_2 = A1C_Null_1.drop(columns=[\"Age_New\",\"Patient_ID\",\"A1C_Result\"], axis=1)"
   ]
  },
  {
   "cell_type": "code",
   "execution_count": 83,
   "id": "b59ac36c",
   "metadata": {},
   "outputs": [
    {
     "data": {
      "text/html": [
       "<div>\n",
       "<style scoped>\n",
       "    .dataframe tbody tr th:only-of-type {\n",
       "        vertical-align: middle;\n",
       "    }\n",
       "\n",
       "    .dataframe tbody tr th {\n",
       "        vertical-align: top;\n",
       "    }\n",
       "\n",
       "    .dataframe thead th {\n",
       "        text-align: right;\n",
       "    }\n",
       "</style>\n",
       "<table border=\"1\" class=\"dataframe\">\n",
       "  <thead>\n",
       "    <tr style=\"text-align: right;\">\n",
       "      <th></th>\n",
       "      <th>variables</th>\n",
       "      <th>VIF</th>\n",
       "    </tr>\n",
       "  </thead>\n",
       "  <tbody>\n",
       "    <tr>\n",
       "      <th>0</th>\n",
       "      <td>Gender</td>\n",
       "      <td>2.418358</td>\n",
       "    </tr>\n",
       "    <tr>\n",
       "      <th>1</th>\n",
       "      <td>Admission_Type</td>\n",
       "      <td>2.368950</td>\n",
       "    </tr>\n",
       "    <tr>\n",
       "      <th>2</th>\n",
       "      <td>Diagnosis</td>\n",
       "      <td>2.502985</td>\n",
       "    </tr>\n",
       "    <tr>\n",
       "      <th>3</th>\n",
       "      <td>Num_Lab_Procedures</td>\n",
       "      <td>4.055986</td>\n",
       "    </tr>\n",
       "    <tr>\n",
       "      <th>4</th>\n",
       "      <td>Num_Medications</td>\n",
       "      <td>4.418195</td>\n",
       "    </tr>\n",
       "    <tr>\n",
       "      <th>5</th>\n",
       "      <td>Num_Outpatient_Visits</td>\n",
       "      <td>2.903673</td>\n",
       "    </tr>\n",
       "    <tr>\n",
       "      <th>6</th>\n",
       "      <td>Num_Inpatient_Visits</td>\n",
       "      <td>2.960254</td>\n",
       "    </tr>\n",
       "    <tr>\n",
       "      <th>7</th>\n",
       "      <td>Num_Emergency_Visits</td>\n",
       "      <td>2.685506</td>\n",
       "    </tr>\n",
       "    <tr>\n",
       "      <th>8</th>\n",
       "      <td>Num_Diagnoses</td>\n",
       "      <td>4.012756</td>\n",
       "    </tr>\n",
       "    <tr>\n",
       "      <th>9</th>\n",
       "      <td>Readmitted</td>\n",
       "      <td>1.938621</td>\n",
       "    </tr>\n",
       "  </tbody>\n",
       "</table>\n",
       "</div>"
      ],
      "text/plain": [
       "               variables       VIF\n",
       "0                 Gender  2.418358\n",
       "1         Admission_Type  2.368950\n",
       "2              Diagnosis  2.502985\n",
       "3     Num_Lab_Procedures  4.055986\n",
       "4        Num_Medications  4.418195\n",
       "5  Num_Outpatient_Visits  2.903673\n",
       "6   Num_Inpatient_Visits  2.960254\n",
       "7   Num_Emergency_Visits  2.685506\n",
       "8          Num_Diagnoses  4.012756\n",
       "9             Readmitted  1.938621"
      ]
     },
     "execution_count": 83,
     "metadata": {},
     "output_type": "execute_result"
    }
   ],
   "source": [
    "calc_vif(A1C_Null_2)"
   ]
  },
  {
   "cell_type": "code",
   "execution_count": 84,
   "id": "ac60bd55",
   "metadata": {},
   "outputs": [
    {
     "data": {
      "text/plain": [
       "Gender                   0\n",
       "Admission_Type           0\n",
       "Diagnosis                0\n",
       "Num_Lab_Procedures       0\n",
       "Num_Medications          0\n",
       "Num_Outpatient_Visits    0\n",
       "Num_Inpatient_Visits     0\n",
       "Num_Emergency_Visits     0\n",
       "Num_Diagnoses            0\n",
       "Readmitted               0\n",
       "dtype: int64"
      ]
     },
     "execution_count": 84,
     "metadata": {},
     "output_type": "execute_result"
    }
   ],
   "source": [
    "A1C_Null_2.isnull().sum()"
   ]
  },
  {
   "cell_type": "code",
   "execution_count": 85,
   "id": "85b149e6",
   "metadata": {},
   "outputs": [
    {
     "data": {
      "text/html": [
       "<div>\n",
       "<style scoped>\n",
       "    .dataframe tbody tr th:only-of-type {\n",
       "        vertical-align: middle;\n",
       "    }\n",
       "\n",
       "    .dataframe tbody tr th {\n",
       "        vertical-align: top;\n",
       "    }\n",
       "\n",
       "    .dataframe thead th {\n",
       "        text-align: right;\n",
       "    }\n",
       "</style>\n",
       "<table border=\"1\" class=\"dataframe\">\n",
       "  <thead>\n",
       "    <tr style=\"text-align: right;\">\n",
       "      <th></th>\n",
       "      <th>Gender</th>\n",
       "      <th>Admission_Type</th>\n",
       "      <th>Diagnosis</th>\n",
       "      <th>Num_Lab_Procedures</th>\n",
       "      <th>Num_Medications</th>\n",
       "      <th>Num_Outpatient_Visits</th>\n",
       "      <th>Num_Inpatient_Visits</th>\n",
       "      <th>Num_Emergency_Visits</th>\n",
       "      <th>Num_Diagnoses</th>\n",
       "      <th>Readmitted</th>\n",
       "    </tr>\n",
       "  </thead>\n",
       "  <tbody>\n",
       "    <tr>\n",
       "      <th>0</th>\n",
       "      <td>2</td>\n",
       "      <td>1</td>\n",
       "      <td>1</td>\n",
       "      <td>33</td>\n",
       "      <td>2</td>\n",
       "      <td>4</td>\n",
       "      <td>1</td>\n",
       "      <td>1</td>\n",
       "      <td>5</td>\n",
       "      <td>1</td>\n",
       "    </tr>\n",
       "    <tr>\n",
       "      <th>1</th>\n",
       "      <td>0</td>\n",
       "      <td>2</td>\n",
       "      <td>0</td>\n",
       "      <td>81</td>\n",
       "      <td>10</td>\n",
       "      <td>4</td>\n",
       "      <td>4</td>\n",
       "      <td>1</td>\n",
       "      <td>6</td>\n",
       "      <td>0</td>\n",
       "    </tr>\n",
       "    <tr>\n",
       "      <th>3</th>\n",
       "      <td>1</td>\n",
       "      <td>0</td>\n",
       "      <td>0</td>\n",
       "      <td>77</td>\n",
       "      <td>11</td>\n",
       "      <td>2</td>\n",
       "      <td>3</td>\n",
       "      <td>4</td>\n",
       "      <td>9</td>\n",
       "      <td>1</td>\n",
       "    </tr>\n",
       "    <tr>\n",
       "      <th>4</th>\n",
       "      <td>0</td>\n",
       "      <td>2</td>\n",
       "      <td>0</td>\n",
       "      <td>50</td>\n",
       "      <td>25</td>\n",
       "      <td>3</td>\n",
       "      <td>4</td>\n",
       "      <td>1</td>\n",
       "      <td>3</td>\n",
       "      <td>1</td>\n",
       "    </tr>\n",
       "    <tr>\n",
       "      <th>5</th>\n",
       "      <td>1</td>\n",
       "      <td>0</td>\n",
       "      <td>3</td>\n",
       "      <td>11</td>\n",
       "      <td>20</td>\n",
       "      <td>3</td>\n",
       "      <td>4</td>\n",
       "      <td>1</td>\n",
       "      <td>3</td>\n",
       "      <td>0</td>\n",
       "    </tr>\n",
       "  </tbody>\n",
       "</table>\n",
       "</div>"
      ],
      "text/plain": [
       "   Gender  Admission_Type  Diagnosis  Num_Lab_Procedures  Num_Medications  \\\n",
       "0       2               1          1                  33                2   \n",
       "1       0               2          0                  81               10   \n",
       "3       1               0          0                  77               11   \n",
       "4       0               2          0                  50               25   \n",
       "5       1               0          3                  11               20   \n",
       "\n",
       "   Num_Outpatient_Visits  Num_Inpatient_Visits  Num_Emergency_Visits  \\\n",
       "0                      4                     1                     1   \n",
       "1                      4                     4                     1   \n",
       "3                      2                     3                     4   \n",
       "4                      3                     4                     1   \n",
       "5                      3                     4                     1   \n",
       "\n",
       "   Num_Diagnoses  Readmitted  \n",
       "0              5           1  \n",
       "1              6           0  \n",
       "3              9           1  \n",
       "4              3           1  \n",
       "5              3           0  "
      ]
     },
     "execution_count": 85,
     "metadata": {},
     "output_type": "execute_result"
    }
   ],
   "source": [
    "A1C_Null_2.head()"
   ]
  },
  {
   "cell_type": "code",
   "execution_count": null,
   "id": "8fb92352",
   "metadata": {},
   "outputs": [],
   "source": []
  },
  {
   "cell_type": "markdown",
   "id": "2e9dcfcb",
   "metadata": {},
   "source": [
    "#   Predict Hospital Re-admissions Model "
   ]
  },
  {
   "cell_type": "code",
   "execution_count": 86,
   "id": "56cf671c",
   "metadata": {},
   "outputs": [],
   "source": [
    "import pickle"
   ]
  },
  {
   "cell_type": "code",
   "execution_count": 87,
   "id": "7c4a2f53",
   "metadata": {},
   "outputs": [],
   "source": [
    "# Loading the MODEL\n",
    "with open(\"A1C_Model.pkl\",\"rb\") as m1:\n",
    "    A1C_Model = pickle.load(m1)"
   ]
  },
  {
   "cell_type": "code",
   "execution_count": 88,
   "id": "ed75e017",
   "metadata": {},
   "outputs": [],
   "source": [
    "new_A1C = A1C_Model.predict(A1C_Null_2)"
   ]
  },
  {
   "cell_type": "code",
   "execution_count": 89,
   "id": "3728f255",
   "metadata": {},
   "outputs": [],
   "source": [
    "A1C_Null_2['A1C_Result'] = new_A1C"
   ]
  },
  {
   "cell_type": "code",
   "execution_count": 90,
   "id": "b64f80e1",
   "metadata": {},
   "outputs": [],
   "source": [
    "# Using pop replace 'Readmitted' placing to the last position\n",
    "A1C_Result_column  = A1C_Null_2.pop('Readmitted')\n",
    "\n",
    "A1C_Null_2['Readmitted'] = A1C_Result_column"
   ]
  },
  {
   "cell_type": "code",
   "execution_count": 91,
   "id": "0362820e",
   "metadata": {
    "scrolled": true
   },
   "outputs": [
    {
     "data": {
      "text/html": [
       "<div>\n",
       "<style scoped>\n",
       "    .dataframe tbody tr th:only-of-type {\n",
       "        vertical-align: middle;\n",
       "    }\n",
       "\n",
       "    .dataframe tbody tr th {\n",
       "        vertical-align: top;\n",
       "    }\n",
       "\n",
       "    .dataframe thead th {\n",
       "        text-align: right;\n",
       "    }\n",
       "</style>\n",
       "<table border=\"1\" class=\"dataframe\">\n",
       "  <thead>\n",
       "    <tr style=\"text-align: right;\">\n",
       "      <th></th>\n",
       "      <th>Gender</th>\n",
       "      <th>Admission_Type</th>\n",
       "      <th>Diagnosis</th>\n",
       "      <th>Num_Lab_Procedures</th>\n",
       "      <th>Num_Medications</th>\n",
       "      <th>Num_Outpatient_Visits</th>\n",
       "      <th>Num_Inpatient_Visits</th>\n",
       "      <th>Num_Emergency_Visits</th>\n",
       "      <th>Num_Diagnoses</th>\n",
       "      <th>A1C_Result</th>\n",
       "      <th>Readmitted</th>\n",
       "    </tr>\n",
       "  </thead>\n",
       "  <tbody>\n",
       "    <tr>\n",
       "      <th>990</th>\n",
       "      <td>2</td>\n",
       "      <td>0</td>\n",
       "      <td>1</td>\n",
       "      <td>69</td>\n",
       "      <td>12</td>\n",
       "      <td>1</td>\n",
       "      <td>3</td>\n",
       "      <td>3</td>\n",
       "      <td>6</td>\n",
       "      <td>0</td>\n",
       "      <td>1</td>\n",
       "    </tr>\n",
       "    <tr>\n",
       "      <th>991</th>\n",
       "      <td>2</td>\n",
       "      <td>0</td>\n",
       "      <td>0</td>\n",
       "      <td>85</td>\n",
       "      <td>5</td>\n",
       "      <td>1</td>\n",
       "      <td>2</td>\n",
       "      <td>1</td>\n",
       "      <td>9</td>\n",
       "      <td>0</td>\n",
       "      <td>0</td>\n",
       "    </tr>\n",
       "    <tr>\n",
       "      <th>992</th>\n",
       "      <td>1</td>\n",
       "      <td>0</td>\n",
       "      <td>2</td>\n",
       "      <td>10</td>\n",
       "      <td>23</td>\n",
       "      <td>0</td>\n",
       "      <td>2</td>\n",
       "      <td>3</td>\n",
       "      <td>1</td>\n",
       "      <td>1</td>\n",
       "      <td>0</td>\n",
       "    </tr>\n",
       "    <tr>\n",
       "      <th>993</th>\n",
       "      <td>0</td>\n",
       "      <td>2</td>\n",
       "      <td>1</td>\n",
       "      <td>83</td>\n",
       "      <td>16</td>\n",
       "      <td>0</td>\n",
       "      <td>1</td>\n",
       "      <td>4</td>\n",
       "      <td>5</td>\n",
       "      <td>0</td>\n",
       "      <td>1</td>\n",
       "    </tr>\n",
       "    <tr>\n",
       "      <th>994</th>\n",
       "      <td>2</td>\n",
       "      <td>2</td>\n",
       "      <td>2</td>\n",
       "      <td>25</td>\n",
       "      <td>14</td>\n",
       "      <td>2</td>\n",
       "      <td>1</td>\n",
       "      <td>0</td>\n",
       "      <td>9</td>\n",
       "      <td>0</td>\n",
       "      <td>0</td>\n",
       "    </tr>\n",
       "  </tbody>\n",
       "</table>\n",
       "</div>"
      ],
      "text/plain": [
       "     Gender  Admission_Type  Diagnosis  Num_Lab_Procedures  Num_Medications  \\\n",
       "990       2               0          1                  69               12   \n",
       "991       2               0          0                  85                5   \n",
       "992       1               0          2                  10               23   \n",
       "993       0               2          1                  83               16   \n",
       "994       2               2          2                  25               14   \n",
       "\n",
       "     Num_Outpatient_Visits  Num_Inpatient_Visits  Num_Emergency_Visits  \\\n",
       "990                      1                     3                     3   \n",
       "991                      1                     2                     1   \n",
       "992                      0                     2                     3   \n",
       "993                      0                     1                     4   \n",
       "994                      2                     1                     0   \n",
       "\n",
       "     Num_Diagnoses  A1C_Result  Readmitted  \n",
       "990              6           0           1  \n",
       "991              9           0           0  \n",
       "992              1           1           0  \n",
       "993              5           0           1  \n",
       "994              9           0           0  "
      ]
     },
     "execution_count": 91,
     "metadata": {},
     "output_type": "execute_result"
    }
   ],
   "source": [
    "A1C_Null_2.tail()"
   ]
  },
  {
   "cell_type": "code",
   "execution_count": 92,
   "id": "97080711",
   "metadata": {},
   "outputs": [
    {
     "data": {
      "text/plain": [
       "(434, 11)"
      ]
     },
     "execution_count": 92,
     "metadata": {},
     "output_type": "execute_result"
    }
   ],
   "source": [
    "A1C_Null_2.shape"
   ]
  },
  {
   "cell_type": "code",
   "execution_count": 93,
   "id": "236a5a00",
   "metadata": {},
   "outputs": [],
   "source": [
    "# saving with actual A1C values\n",
    "\n",
    "A1C_Null_2.to_csv(\"hospital_with_predicted_A1C.csv\", index= False)"
   ]
  },
  {
   "cell_type": "code",
   "execution_count": null,
   "id": "7ce25bcd",
   "metadata": {},
   "outputs": [],
   "source": []
  }
 ],
 "metadata": {
  "kernelspec": {
   "display_name": ".venv",
   "language": "python",
   "name": "python3"
  },
  "language_info": {
   "codemirror_mode": {
    "name": "ipython",
    "version": 3
   },
   "file_extension": ".py",
   "mimetype": "text/x-python",
   "name": "python",
   "nbconvert_exporter": "python",
   "pygments_lexer": "ipython3",
   "version": "3.13.1"
  }
 },
 "nbformat": 4,
 "nbformat_minor": 5
}
