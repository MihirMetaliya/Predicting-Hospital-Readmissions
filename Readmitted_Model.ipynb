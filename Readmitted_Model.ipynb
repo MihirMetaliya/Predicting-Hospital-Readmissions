{
 "cells": [
  {
   "cell_type": "markdown",
   "id": "5b1473c9",
   "metadata": {},
   "source": [
    "### Project 2 - Predicting Hospital Readmissions\n",
    "\n",
    "* Problem: Predict hospital readmissions within 30 days.\n",
    "* Objective: Build a predictive model for high-risk patients.\n",
    "* Tasks:\n",
    "    - Data Preprocessing\n",
    "    - Feature Engineering\n",
    "    - Model Building\n",
    "    - Model Evaluation"
   ]
  },
  {
   "cell_type": "code",
   "execution_count": 47,
   "id": "3cacabbc",
   "metadata": {},
   "outputs": [],
   "source": [
    "import pandas as pd\n",
    "import numpy as np\n",
    "\n",
    "import matplotlib.pyplot as plt\n",
    "import seaborn as sns"
   ]
  },
  {
   "cell_type": "code",
   "execution_count": 48,
   "id": "7cb6e515",
   "metadata": {},
   "outputs": [],
   "source": [
    "import warnings\n",
    "warnings.filterwarnings(\"ignore\")"
   ]
  },
  {
   "cell_type": "markdown",
   "id": "9903e838",
   "metadata": {},
   "source": [
    "## Read the Dataframe"
   ]
  },
  {
   "cell_type": "code",
   "execution_count": 49,
   "id": "dedfb0a3",
   "metadata": {},
   "outputs": [],
   "source": [
    "df1 = pd.read_csv(\"hospital_with_actual_A1C.csv\")\n",
    "df2 = pd.read_csv(\"hospital_with_predicted_A1C.csv\")"
   ]
  },
  {
   "cell_type": "code",
   "execution_count": 50,
   "id": "b409ff94",
   "metadata": {},
   "outputs": [
    {
     "data": {
      "text/html": [
       "<div>\n",
       "<style scoped>\n",
       "    .dataframe tbody tr th:only-of-type {\n",
       "        vertical-align: middle;\n",
       "    }\n",
       "\n",
       "    .dataframe tbody tr th {\n",
       "        vertical-align: top;\n",
       "    }\n",
       "\n",
       "    .dataframe thead th {\n",
       "        text-align: right;\n",
       "    }\n",
       "</style>\n",
       "<table border=\"1\" class=\"dataframe\">\n",
       "  <thead>\n",
       "    <tr style=\"text-align: right;\">\n",
       "      <th></th>\n",
       "      <th>Gender</th>\n",
       "      <th>Admission_Type</th>\n",
       "      <th>Diagnosis</th>\n",
       "      <th>Num_Lab_Procedures</th>\n",
       "      <th>Num_Medications</th>\n",
       "      <th>Num_Outpatient_Visits</th>\n",
       "      <th>Num_Inpatient_Visits</th>\n",
       "      <th>Num_Emergency_Visits</th>\n",
       "      <th>Num_Diagnoses</th>\n",
       "      <th>A1C_Result</th>\n",
       "      <th>Readmitted</th>\n",
       "    </tr>\n",
       "  </thead>\n",
       "  <tbody>\n",
       "    <tr>\n",
       "      <th>0</th>\n",
       "      <td>0</td>\n",
       "      <td>2</td>\n",
       "      <td>1</td>\n",
       "      <td>75</td>\n",
       "      <td>29</td>\n",
       "      <td>4</td>\n",
       "      <td>0</td>\n",
       "      <td>3</td>\n",
       "      <td>5</td>\n",
       "      <td>1</td>\n",
       "      <td>0</td>\n",
       "    </tr>\n",
       "    <tr>\n",
       "      <th>1</th>\n",
       "      <td>0</td>\n",
       "      <td>0</td>\n",
       "      <td>1</td>\n",
       "      <td>28</td>\n",
       "      <td>19</td>\n",
       "      <td>4</td>\n",
       "      <td>0</td>\n",
       "      <td>3</td>\n",
       "      <td>7</td>\n",
       "      <td>1</td>\n",
       "      <td>1</td>\n",
       "    </tr>\n",
       "    <tr>\n",
       "      <th>2</th>\n",
       "      <td>1</td>\n",
       "      <td>2</td>\n",
       "      <td>2</td>\n",
       "      <td>70</td>\n",
       "      <td>23</td>\n",
       "      <td>1</td>\n",
       "      <td>2</td>\n",
       "      <td>4</td>\n",
       "      <td>6</td>\n",
       "      <td>1</td>\n",
       "      <td>0</td>\n",
       "    </tr>\n",
       "    <tr>\n",
       "      <th>3</th>\n",
       "      <td>1</td>\n",
       "      <td>1</td>\n",
       "      <td>3</td>\n",
       "      <td>41</td>\n",
       "      <td>24</td>\n",
       "      <td>4</td>\n",
       "      <td>0</td>\n",
       "      <td>0</td>\n",
       "      <td>3</td>\n",
       "      <td>0</td>\n",
       "      <td>0</td>\n",
       "    </tr>\n",
       "    <tr>\n",
       "      <th>4</th>\n",
       "      <td>0</td>\n",
       "      <td>1</td>\n",
       "      <td>3</td>\n",
       "      <td>68</td>\n",
       "      <td>14</td>\n",
       "      <td>2</td>\n",
       "      <td>4</td>\n",
       "      <td>2</td>\n",
       "      <td>5</td>\n",
       "      <td>0</td>\n",
       "      <td>0</td>\n",
       "    </tr>\n",
       "  </tbody>\n",
       "</table>\n",
       "</div>"
      ],
      "text/plain": [
       "   Gender  Admission_Type  Diagnosis  Num_Lab_Procedures  Num_Medications  \\\n",
       "0       0               2          1                  75               29   \n",
       "1       0               0          1                  28               19   \n",
       "2       1               2          2                  70               23   \n",
       "3       1               1          3                  41               24   \n",
       "4       0               1          3                  68               14   \n",
       "\n",
       "   Num_Outpatient_Visits  Num_Inpatient_Visits  Num_Emergency_Visits  \\\n",
       "0                      4                     0                     3   \n",
       "1                      4                     0                     3   \n",
       "2                      1                     2                     4   \n",
       "3                      4                     0                     0   \n",
       "4                      2                     4                     2   \n",
       "\n",
       "   Num_Diagnoses  A1C_Result  Readmitted  \n",
       "0              5           1           0  \n",
       "1              7           1           1  \n",
       "2              6           1           0  \n",
       "3              3           0           0  \n",
       "4              5           0           0  "
      ]
     },
     "execution_count": 50,
     "metadata": {},
     "output_type": "execute_result"
    }
   ],
   "source": [
    "# Concatenate the two DataFrames along the rows (axis=0)\n",
    "final_df = pd.concat([df1, df2], axis=0)\n",
    "\n",
    "# Reset the index of the concatenated DataFrame\n",
    "final_df.reset_index(drop=True, inplace=True)\n",
    "\n",
    "# Display the concatenated DataFrame\n",
    "final_df.head()"
   ]
  },
  {
   "cell_type": "code",
   "execution_count": 51,
   "id": "51c13c96",
   "metadata": {},
   "outputs": [
    {
     "data": {
      "text/plain": [
       "A1C_Result\n",
       "0    566\n",
       "1    434\n",
       "Name: count, dtype: int64"
      ]
     },
     "execution_count": 51,
     "metadata": {},
     "output_type": "execute_result"
    }
   ],
   "source": [
    "final_df['A1C_Result'].value_counts()"
   ]
  },
  {
   "cell_type": "code",
   "execution_count": null,
   "id": "9f60be85",
   "metadata": {},
   "outputs": [],
   "source": []
  },
  {
   "cell_type": "code",
   "execution_count": null,
   "id": "63de835c",
   "metadata": {},
   "outputs": [],
   "source": []
  },
  {
   "cell_type": "code",
   "execution_count": 52,
   "id": "fca52abc",
   "metadata": {},
   "outputs": [
    {
     "data": {
      "text/plain": [
       "(1000, 11)"
      ]
     },
     "execution_count": 52,
     "metadata": {},
     "output_type": "execute_result"
    }
   ],
   "source": [
    "#shape\n",
    "final_df.shape"
   ]
  },
  {
   "cell_type": "code",
   "execution_count": 53,
   "id": "d66e6bbd",
   "metadata": {},
   "outputs": [
    {
     "name": "stdout",
     "output_type": "stream",
     "text": [
      "<class 'pandas.core.frame.DataFrame'>\n",
      "RangeIndex: 1000 entries, 0 to 999\n",
      "Data columns (total 11 columns):\n",
      " #   Column                 Non-Null Count  Dtype\n",
      "---  ------                 --------------  -----\n",
      " 0   Gender                 1000 non-null   int64\n",
      " 1   Admission_Type         1000 non-null   int64\n",
      " 2   Diagnosis              1000 non-null   int64\n",
      " 3   Num_Lab_Procedures     1000 non-null   int64\n",
      " 4   Num_Medications        1000 non-null   int64\n",
      " 5   Num_Outpatient_Visits  1000 non-null   int64\n",
      " 6   Num_Inpatient_Visits   1000 non-null   int64\n",
      " 7   Num_Emergency_Visits   1000 non-null   int64\n",
      " 8   Num_Diagnoses          1000 non-null   int64\n",
      " 9   A1C_Result             1000 non-null   int64\n",
      " 10  Readmitted             1000 non-null   int64\n",
      "dtypes: int64(11)\n",
      "memory usage: 86.1 KB\n"
     ]
    }
   ],
   "source": [
    "# info\n",
    "final_df.info()"
   ]
  },
  {
   "cell_type": "code",
   "execution_count": 54,
   "id": "a2375588",
   "metadata": {},
   "outputs": [
    {
     "data": {
      "text/plain": [
       "Gender                   0\n",
       "Admission_Type           0\n",
       "Diagnosis                0\n",
       "Num_Lab_Procedures       0\n",
       "Num_Medications          0\n",
       "Num_Outpatient_Visits    0\n",
       "Num_Inpatient_Visits     0\n",
       "Num_Emergency_Visits     0\n",
       "Num_Diagnoses            0\n",
       "A1C_Result               0\n",
       "Readmitted               0\n",
       "dtype: int64"
      ]
     },
     "execution_count": 54,
     "metadata": {},
     "output_type": "execute_result"
    }
   ],
   "source": [
    "#null\n",
    "final_df.isnull().sum()"
   ]
  },
  {
   "cell_type": "code",
   "execution_count": 55,
   "id": "b271be77",
   "metadata": {},
   "outputs": [
    {
     "data": {
      "text/plain": [
       "np.int64(0)"
      ]
     },
     "execution_count": 55,
     "metadata": {},
     "output_type": "execute_result"
    }
   ],
   "source": [
    "#duplicates\n",
    "final_df.duplicated().sum()"
   ]
  },
  {
   "cell_type": "code",
   "execution_count": 56,
   "id": "010f57eb",
   "metadata": {},
   "outputs": [
    {
     "data": {
      "text/plain": [
       "Gender                    3\n",
       "Admission_Type            3\n",
       "Diagnosis                 4\n",
       "Num_Lab_Procedures       99\n",
       "Num_Medications          30\n",
       "Num_Outpatient_Visits     5\n",
       "Num_Inpatient_Visits      5\n",
       "Num_Emergency_Visits      5\n",
       "Num_Diagnoses             9\n",
       "A1C_Result                2\n",
       "Readmitted                2\n",
       "dtype: int64"
      ]
     },
     "execution_count": 56,
     "metadata": {},
     "output_type": "execute_result"
    }
   ],
   "source": [
    "#unique\n",
    "final_df.nunique()"
   ]
  },
  {
   "cell_type": "code",
   "execution_count": 57,
   "id": "389918ac",
   "metadata": {},
   "outputs": [
    {
     "name": "stdout",
     "output_type": "stream",
     "text": [
      "'Gender':\n",
      " [0 1 2]\n",
      "\n",
      "'Admission_Type':\n",
      " [2 0 1]\n",
      "\n",
      "'Diagnosis':\n",
      " [1 2 3 0]\n",
      "\n",
      "'Num_Lab_Procedures':\n",
      " [75 28 70 41 68 99 56 64 62 18 19 87 82  6 59 43 80 66  8 13 94 84 88 86\n",
      " 93  9 37 74 36 92 42 85 72 48 91 67 45 10  1 32 71 17 65 26 98 69 11 76\n",
      " 60 40  5 21  4 15 46 24 63 57 49 53 23 95  3 51 38 58 50 30 25 27 78 47\n",
      " 39 16 81 52 34 73 55 96 35 33 61 29 83 44  7 12 20 90 89  2 54 79 97 22\n",
      " 77 31 14]\n",
      "\n",
      "'Num_Medications':\n",
      " [29 19 23 24 14  2 28  5  4 22 17 20 25 35 11  9 10  1 15  8 12 18 27  3\n",
      " 26 13 16 21  7  6]\n",
      "\n",
      "'Num_Outpatient_Visits':\n",
      " [4 1 2 3 0]\n",
      "\n",
      "'Num_Inpatient_Visits':\n",
      " [0 2 4 1 3]\n",
      "\n",
      "'Num_Emergency_Visits':\n",
      " [3 4 0 2 1]\n",
      "\n",
      "'Num_Diagnoses':\n",
      " [5 7 6 3 8 1 2 4 9]\n",
      "\n",
      "'A1C_Result':\n",
      " [1 0]\n",
      "\n",
      "'Readmitted':\n",
      " [0 1]\n",
      "\n"
     ]
    }
   ],
   "source": [
    "for column in final_df.columns:\n",
    "    unique_values = final_df[column].unique()\n",
    "    print(f\"'{column}':\\n {unique_values}\\n\")"
   ]
  },
  {
   "cell_type": "code",
   "execution_count": 58,
   "id": "d6716587",
   "metadata": {},
   "outputs": [],
   "source": [
    "# Save the Dataframe\n",
    "final_df.to_csv(\"hospital_readmissions_final.csv\", index= False)"
   ]
  },
  {
   "cell_type": "markdown",
   "id": "b7e83445",
   "metadata": {},
   "source": [
    "## Handling Outliers"
   ]
  },
  {
   "cell_type": "code",
   "execution_count": 59,
   "id": "6965e992",
   "metadata": {},
   "outputs": [
    {
     "name": "stdout",
     "output_type": "stream",
     "text": [
      "Number of outliers:\n",
      "Gender                   0\n",
      "Admission_Type           0\n",
      "Diagnosis                0\n",
      "Num_Lab_Procedures       0\n",
      "Num_Medications          0\n",
      "Num_Outpatient_Visits    0\n",
      "Num_Inpatient_Visits     0\n",
      "Num_Emergency_Visits     0\n",
      "Num_Diagnoses            0\n",
      "A1C_Result               0\n",
      "Readmitted               0\n",
      "dtype: int64\n"
     ]
    }
   ],
   "source": [
    "# Calculate quartiles and IQR\n",
    "Q1 = final_df.quantile(0.25)\n",
    "Q3 = final_df.quantile(0.75)\n",
    "IQR = Q3 - Q1\n",
    "\n",
    "# Calculate upper and lower bounds for outliers\n",
    "upper_bound = Q3 + 1.5 * IQR\n",
    "lower_bound = Q1 - 1.5 * IQR\n",
    "\n",
    "# Identify outliers\n",
    "outliers = final_df[(final_df < lower_bound) | (final_df > upper_bound)]\n",
    "\n",
    "# Count outliers\n",
    "num_outliers = outliers.count()\n",
    "\n",
    "print(\"Number of outliers:\")\n",
    "print(num_outliers)"
   ]
  },
  {
   "cell_type": "markdown",
   "id": "8b0a4b36",
   "metadata": {},
   "source": [
    "## Handling Skwness"
   ]
  },
  {
   "cell_type": "code",
   "execution_count": 60,
   "id": "496efef9",
   "metadata": {},
   "outputs": [],
   "source": [
    "# Function for histogram \n",
    "def plot_histograms(df, cols):\n",
    "\n",
    "    plt.figure(figsize=(8, 15))\n",
    "\n",
    "    for i, col in enumerate(cols):\n",
    "        plt.subplot(7,2, i+1)\n",
    "        sns.histplot(df[col],kde= True, bins=30, color=\"salmon\") \n",
    "        plt.title(col)\n",
    "    plt.tight_layout()\n",
    "    plt.show()"
   ]
  },
  {
   "cell_type": "code",
   "execution_count": 61,
   "id": "63ebe996",
   "metadata": {},
   "outputs": [
    {
     "data": {
      "image/png": "[encoded data removed]",
      "text/plain": [
       "<Figure size 800x1500 with 11 Axes>"
      ]
     },
     "metadata": {},
     "output_type": "display_data"
    }
   ],
   "source": [
    "columns = final_df.columns\n",
    "plot_histograms(final_df, columns)"
   ]
  },
  {
   "cell_type": "code",
   "execution_count": 62,
   "id": "ed1ff1e6",
   "metadata": {},
   "outputs": [
    {
     "data": {
      "text/plain": [
       "Gender                   0.036436\n",
       "Admission_Type           0.049547\n",
       "Diagnosis                0.033828\n",
       "Num_Lab_Procedures      -0.051773\n",
       "Num_Medications          0.009162\n",
       "Num_Outpatient_Visits   -0.013153\n",
       "Num_Inpatient_Visits     0.010843\n",
       "Num_Emergency_Visits     0.080239\n",
       "Num_Diagnoses           -0.018829\n",
       "A1C_Result               0.266731\n",
       "Readmitted               0.012018\n",
       "dtype: float64"
      ]
     },
     "execution_count": 62,
     "metadata": {},
     "output_type": "execute_result"
    }
   ],
   "source": [
    "final_df.skew()"
   ]
  },
  {
   "cell_type": "markdown",
   "id": "1488a215",
   "metadata": {},
   "source": [
    "    Skewness is a measure of lack of symmetry\n",
    "    Skewness value range from -1 to 1:\n",
    "\n",
    "- If the skewness is between -0.5 and 0.5, the distribution is approximately symmetric.\n",
    "- If the skewness is less than -0.5, the distribution is negatively skewed (left-skewed).\n",
    "- If the skewness is greater than 0.5, the distribution is positively skewed (right-sk"
   ]
  },
  {
   "cell_type": "code",
   "execution_count": 63,
   "id": "6ce8bc16",
   "metadata": {},
   "outputs": [],
   "source": [
    "# Checking for multicollinearity"
   ]
  },
  {
   "cell_type": "code",
   "execution_count": 64,
   "id": "9b6bc003",
   "metadata": {},
   "outputs": [],
   "source": [
    "# Import library for VIF\n",
    "from statsmodels.stats.outliers_influence import variance_inflation_factor\n",
    "\n",
    "def calc_vif(X):\n",
    "\n",
    "    # Calculating VIF\n",
    "    vif = pd.DataFrame()\n",
    "    vif[\"variables\"] = X.columns\n",
    "    vif[\"VIF\"] = [variance_inflation_factor(X.values, i) for i in range(X.shape[1])]\n",
    "\n",
    "    return(vif)"
   ]
  },
  {
   "cell_type": "code",
   "execution_count": 65,
   "id": "90516432",
   "metadata": {},
   "outputs": [
    {
     "data": {
      "text/html": [
       "<div>\n",
       "<style scoped>\n",
       "    .dataframe tbody tr th:only-of-type {\n",
       "        vertical-align: middle;\n",
       "    }\n",
       "\n",
       "    .dataframe tbody tr th {\n",
       "        vertical-align: top;\n",
       "    }\n",
       "\n",
       "    .dataframe thead th {\n",
       "        text-align: right;\n",
       "    }\n",
       "</style>\n",
       "<table border=\"1\" class=\"dataframe\">\n",
       "  <thead>\n",
       "    <tr style=\"text-align: right;\">\n",
       "      <th></th>\n",
       "      <th>variables</th>\n",
       "      <th>VIF</th>\n",
       "    </tr>\n",
       "  </thead>\n",
       "  <tbody>\n",
       "    <tr>\n",
       "      <th>0</th>\n",
       "      <td>Gender</td>\n",
       "      <td>2.310514</td>\n",
       "    </tr>\n",
       "    <tr>\n",
       "      <th>1</th>\n",
       "      <td>Admission_Type</td>\n",
       "      <td>2.317428</td>\n",
       "    </tr>\n",
       "    <tr>\n",
       "      <th>2</th>\n",
       "      <td>Diagnosis</td>\n",
       "      <td>2.460125</td>\n",
       "    </tr>\n",
       "    <tr>\n",
       "      <th>3</th>\n",
       "      <td>Num_Lab_Procedures</td>\n",
       "      <td>3.781803</td>\n",
       "    </tr>\n",
       "    <tr>\n",
       "      <th>4</th>\n",
       "      <td>Num_Medications</td>\n",
       "      <td>4.087368</td>\n",
       "    </tr>\n",
       "    <tr>\n",
       "      <th>5</th>\n",
       "      <td>Num_Outpatient_Visits</td>\n",
       "      <td>2.865309</td>\n",
       "    </tr>\n",
       "    <tr>\n",
       "      <th>6</th>\n",
       "      <td>Num_Inpatient_Visits</td>\n",
       "      <td>2.795235</td>\n",
       "    </tr>\n",
       "    <tr>\n",
       "      <th>7</th>\n",
       "      <td>Num_Emergency_Visits</td>\n",
       "      <td>2.795893</td>\n",
       "    </tr>\n",
       "    <tr>\n",
       "      <th>8</th>\n",
       "      <td>Num_Diagnoses</td>\n",
       "      <td>4.022052</td>\n",
       "    </tr>\n",
       "    <tr>\n",
       "      <th>9</th>\n",
       "      <td>A1C_Result</td>\n",
       "      <td>1.724583</td>\n",
       "    </tr>\n",
       "    <tr>\n",
       "      <th>10</th>\n",
       "      <td>Readmitted</td>\n",
       "      <td>1.949154</td>\n",
       "    </tr>\n",
       "  </tbody>\n",
       "</table>\n",
       "</div>"
      ],
      "text/plain": [
       "                variables       VIF\n",
       "0                  Gender  2.310514\n",
       "1          Admission_Type  2.317428\n",
       "2               Diagnosis  2.460125\n",
       "3      Num_Lab_Procedures  3.781803\n",
       "4         Num_Medications  4.087368\n",
       "5   Num_Outpatient_Visits  2.865309\n",
       "6    Num_Inpatient_Visits  2.795235\n",
       "7    Num_Emergency_Visits  2.795893\n",
       "8           Num_Diagnoses  4.022052\n",
       "9              A1C_Result  1.724583\n",
       "10             Readmitted  1.949154"
      ]
     },
     "execution_count": 65,
     "metadata": {},
     "output_type": "execute_result"
    }
   ],
   "source": [
    "calc_vif(final_df)"
   ]
  },
  {
   "cell_type": "markdown",
   "id": "0ba1ddf5",
   "metadata": {},
   "source": [
    "Variance Inflation Factor\n",
    "\n",
    "- VIF values below 5 indicate that multicollinearity is not a significant concern, and the predictor variables are likely not highly correlated with each other.\n",
    "- VIF values between 5 and 10 suggest moderate multicollinearity.\n",
    "- VIF values above 10 indicate potentially severe multicollinearity.\n",
    "\n"
   ]
  },
  {
   "cell_type": "markdown",
   "id": "6cd208b6",
   "metadata": {},
   "source": [
    "#  Model to Readmission"
   ]
  },
  {
   "cell_type": "code",
   "execution_count": 66,
   "id": "5406d441",
   "metadata": {},
   "outputs": [],
   "source": [
    "# import\n",
    "from sklearn.model_selection import train_test_split\n",
    "from sklearn.metrics import accuracy_score, auc, roc_curve, confusion_matrix, classification_report\n",
    "\n",
    "from imblearn.combine import SMOTETomek\n",
    "\n",
    "from sklearn.linear_model import LogisticRegression\n",
    "from sklearn.svm import SVC\n",
    "from sklearn.tree import DecisionTreeClassifier\n",
    "from sklearn.ensemble import RandomForestClassifier\n",
    "from sklearn.ensemble import ExtraTreesClassifier\n",
    "from sklearn.ensemble import AdaBoostClassifier\n",
    "from sklearn.ensemble import GradientBoostingClassifier\n",
    "from xgboost import XGBClassifier\n",
    "\n",
    "import pickle"
   ]
  },
  {
   "cell_type": "code",
   "execution_count": 67,
   "id": "b1383483",
   "metadata": {},
   "outputs": [
    {
     "data": {
      "text/plain": [
       "Index(['Gender', 'Admission_Type', 'Diagnosis', 'Num_Lab_Procedures',\n",
       "       'Num_Medications', 'Num_Outpatient_Visits', 'Num_Inpatient_Visits',\n",
       "       'Num_Emergency_Visits', 'Num_Diagnoses', 'A1C_Result', 'Readmitted'],\n",
       "      dtype='object')"
      ]
     },
     "execution_count": 67,
     "metadata": {},
     "output_type": "execute_result"
    }
   ],
   "source": [
    "final_df.columns"
   ]
  },
  {
   "cell_type": "code",
   "execution_count": 68,
   "id": "34d14bd2",
   "metadata": {},
   "outputs": [
    {
     "data": {
      "text/plain": [
       "Readmitted\n",
       "0    503\n",
       "1    497\n",
       "Name: count, dtype: int64"
      ]
     },
     "execution_count": 68,
     "metadata": {},
     "output_type": "execute_result"
    }
   ],
   "source": [
    "final_df[\"Readmitted\"].value_counts()"
   ]
  },
  {
   "cell_type": "code",
   "execution_count": 69,
   "id": "c09de987",
   "metadata": {},
   "outputs": [],
   "source": [
    "# Data Splitting\n",
    "\n",
    "x_new = final_df.drop(columns=[\"Readmitted\"],axis=1) #independent variables.\n",
    "y_new = final_df[\"Readmitted\"] #dependent variable"
   ]
  },
  {
   "cell_type": "code",
   "execution_count": null,
   "id": "dbf0dc54",
   "metadata": {},
   "outputs": [],
   "source": []
  },
  {
   "cell_type": "code",
   "execution_count": 70,
   "id": "8dae58d8",
   "metadata": {},
   "outputs": [
    {
     "name": "stdout",
     "output_type": "stream",
     "text": [
      "{'Algorithm': 'Logistic Regression', 'Accuracy_Train': 0.56625, 'Accuracy_Test': 0.515}\n"
     ]
    }
   ],
   "source": [
    "# Logistic Regression\n",
    "\n",
    "# splitting train & test \n",
    "x_train, x_test, y_train, y_test = train_test_split(x_new, y_new, test_size= 0.2, random_state=40)\n",
    "\n",
    "model = LogisticRegression(solver='liblinear').fit(x_train, y_train)\n",
    "\n",
    "y_pred_train = model.predict(x_train)\n",
    "y_pred_test = model.predict(x_test)\n",
    "\n",
    "#checking the accuracy_score\n",
    "accuracy_train = accuracy_score(y_train, y_pred_train)\n",
    "accuracy_test = accuracy_score(y_test, y_pred_test)\n",
    "\n",
    "metrics ={\"Algorithm\": \"Logistic Regression\",\n",
    "           \"Accuracy_Train\": accuracy_train,\n",
    "           \"Accuracy_Test\": accuracy_test}\n",
    "print(metrics)"
   ]
  },
  {
   "cell_type": "code",
   "execution_count": 71,
   "id": "d56a2eb1",
   "metadata": {},
   "outputs": [
    {
     "name": "stdout",
     "output_type": "stream",
     "text": [
      "{'Algorithm': 'SVM', 'Accuracy_Train': 1.0, 'Accuracy_Test': 0.49}\n"
     ]
    }
   ],
   "source": [
    "# SVM Classification\n",
    "\n",
    "# splitting train & test \n",
    "x_train, x_test, y_train, y_test = train_test_split(x_new, y_new, test_size= 0.2, random_state=40)\n",
    "\n",
    "svm = SVC(kernel=\"rbf\", gamma=0.5, C=1.0)\n",
    "model = svm.fit(x_train, y_train)\n",
    "\n",
    "y_pred_train = model.predict(x_train)\n",
    "y_pred_test = model.predict(x_test)\n",
    "\n",
    "#checking the accuracy_score\n",
    "accuracy_train = accuracy_score(y_train, y_pred_train)\n",
    "accuracy_test = accuracy_score(y_test, y_pred_test)\n",
    "\n",
    "metrics ={\"Algorithm\": \"SVM\",\n",
    "           \"Accuracy_Train\": accuracy_train,\n",
    "           \"Accuracy_Test\": accuracy_test}\n",
    "print(metrics)"
   ]
  },
  {
   "cell_type": "code",
   "execution_count": 72,
   "id": "396f856e",
   "metadata": {},
   "outputs": [],
   "source": [
    "# Other classification algorithms\n",
    "\n",
    "def accuracy_checking(x_data, y_data, algorithm):\n",
    "    \n",
    "    # splitting train & test\n",
    "    x_train, x_test, y_train, y_test= train_test_split(x_data, y_data, test_size= 0.2, random_state=40)\n",
    "\n",
    "    model = algorithm().fit(x_train, y_train)\n",
    "\n",
    "    y_pred_train = model.predict(x_train)\n",
    "    y_pred_test = model.predict(x_test)\n",
    "\n",
    "    #checking the accuracy_score\n",
    "    accuracy_train = accuracy_score(y_train, y_pred_train)\n",
    "    accuracy_test = accuracy_score(y_test, y_pred_test)\n",
    "\n",
    "    metrics = {\"Algorithm\": algorithm.__name__,\n",
    "               \"Accuracy_Train\": accuracy_train,\n",
    "               \"Accuracy_Test\": accuracy_test}\n",
    "    return metrics"
   ]
  },
  {
   "cell_type": "code",
   "execution_count": 73,
   "id": "c6f67245",
   "metadata": {},
   "outputs": [
    {
     "name": "stdout",
     "output_type": "stream",
     "text": [
      "{'Algorithm': 'DecisionTreeClassifier', 'Accuracy_Train': 1.0, 'Accuracy_Test': 0.45}\n",
      "{'Algorithm': 'RandomForestClassifier', 'Accuracy_Train': 1.0, 'Accuracy_Test': 0.515}\n",
      "{'Algorithm': 'ExtraTreesClassifier', 'Accuracy_Train': 1.0, 'Accuracy_Test': 0.53}\n",
      "{'Algorithm': 'AdaBoostClassifier', 'Accuracy_Train': 0.5925, 'Accuracy_Test': 0.5}\n",
      "{'Algorithm': 'GradientBoostingClassifier', 'Accuracy_Train': 0.8, 'Accuracy_Test': 0.485}\n",
      "{'Algorithm': 'XGBClassifier', 'Accuracy_Train': 1.0, 'Accuracy_Test': 0.505}\n"
     ]
    }
   ],
   "source": [
    "print(accuracy_checking(x_new,y_new,DecisionTreeClassifier))\n",
    "print(accuracy_checking(x_new,y_new,RandomForestClassifier))\n",
    "print(accuracy_checking(x_new,y_new,ExtraTreesClassifier))\n",
    "print(accuracy_checking(x_new,y_new,AdaBoostClassifier))\n",
    "print(accuracy_checking(x_new,y_new,GradientBoostingClassifier))\n",
    "print(accuracy_checking(x_new,y_new,XGBClassifier))"
   ]
  },
  {
   "cell_type": "code",
   "execution_count": null,
   "id": "a57f6a6c",
   "metadata": {},
   "outputs": [],
   "source": []
  },
  {
   "cell_type": "markdown",
   "id": "340ffae9",
   "metadata": {},
   "source": [
    "## Cross Validation"
   ]
  },
  {
   "cell_type": "code",
   "execution_count": 74,
   "id": "668ca2f2",
   "metadata": {},
   "outputs": [
    {
     "name": "stdout",
     "output_type": "stream",
     "text": [
      "Accuracy scores for each fold: [0.495 0.505 0.505 0.475 0.485]\n",
      "Mean Accuracy: 0.493\n"
     ]
    }
   ],
   "source": [
    "# StratifiedKFold Cross Validation\n",
    "from sklearn.model_selection import cross_val_score, StratifiedKFold\n",
    "\n",
    "# Instantiate the classification model\n",
    "A1C_Model = GradientBoostingClassifier()\n",
    "\n",
    "# Instantiate Stratified K-Fold cross-validator\n",
    "skf = StratifiedKFold(n_splits=5, shuffle=True, random_state=42)\n",
    "\n",
    "# Perform Stratified K-Fold Cross-Validation and calculate accuracy for each fold\n",
    "accuracy_scores = cross_val_score(model, x_new, y_new, scoring='accuracy', cv=skf)\n",
    "mean_accuracy = np.mean(accuracy_scores)\n",
    "\n",
    "# Print\n",
    "print(\"Accuracy scores for each fold:\", accuracy_scores)\n",
    "print(\"Mean Accuracy:\", mean_accuracy)\n"
   ]
  },
  {
   "cell_type": "code",
   "execution_count": null,
   "id": "8d82f397",
   "metadata": {},
   "outputs": [],
   "source": []
  },
  {
   "cell_type": "code",
   "execution_count": 75,
   "id": "0d33d6d7",
   "metadata": {},
   "outputs": [],
   "source": [
    "# Selected Model\n",
    "x_train, x_test, y_train, y_test= train_test_split(x_new, y_new, test_size= 0.2, random_state= 50)\n",
    "\n",
    "Readmission_Model = GradientBoostingClassifier().fit(x_train, y_train)\n",
    " \n",
    "y_pred_train = model.predict(x_train)\n",
    "y_pred_test = model.predict(x_test)"
   ]
  },
  {
   "cell_type": "code",
   "execution_count": null,
   "id": "78b0fad5",
   "metadata": {},
   "outputs": [],
   "source": []
  },
  {
   "cell_type": "markdown",
   "id": "30ab47f4",
   "metadata": {},
   "source": [
    "### Performance Metrics"
   ]
  },
  {
   "cell_type": "code",
   "execution_count": 76,
   "id": "cd033826",
   "metadata": {},
   "outputs": [
    {
     "name": "stdout",
     "output_type": "stream",
     "text": [
      "Accuracy score for Train and Test\n",
      "----------------------------------\n",
      "Accuracy_Train:  0.895\n",
      "Accuracy_Test:  0.91\n"
     ]
    }
   ],
   "source": [
    "# accuracy_score for train and test\n",
    "\n",
    "accuracy_train = accuracy_score(y_train, y_pred_train)\n",
    "accuracy_test = accuracy_score(y_test, y_pred_test)\n",
    "\n",
    "print(\"Accuracy score for Train and Test\")\n",
    "print(\"----------------------------------\")\n",
    "print(\"Accuracy_Train: \",accuracy_train)\n",
    "print(\"Accuracy_Test: \",accuracy_test)"
   ]
  },
  {
   "cell_type": "code",
   "execution_count": 77,
   "id": "d94b1b9f",
   "metadata": {},
   "outputs": [
    {
     "name": "stdout",
     "output_type": "stream",
     "text": [
      "Confution_matrix for Test\n",
      "--------------------------\n",
      "[[99 17]\n",
      " [ 1 83]]\n"
     ]
    }
   ],
   "source": [
    "# confution matrics \n",
    "\n",
    "print(\"Confution_matrix for Test\")\n",
    "print(\"--------------------------\")\n",
    "print(confusion_matrix(y_true = y_test, y_pred = y_pred_test))"
   ]
  },
  {
   "cell_type": "code",
   "execution_count": 78,
   "id": "884ac9e4",
   "metadata": {},
   "outputs": [
    {
     "name": "stdout",
     "output_type": "stream",
     "text": [
      "Classification_report for Test\n",
      "-------------------------------\n",
      "              precision    recall  f1-score   support\n",
      "\n",
      "           0       0.99      0.85      0.92       116\n",
      "           1       0.83      0.99      0.90        84\n",
      "\n",
      "    accuracy                           0.91       200\n",
      "   macro avg       0.91      0.92      0.91       200\n",
      "weighted avg       0.92      0.91      0.91       200\n",
      "\n"
     ]
    }
   ],
   "source": [
    "# classification report typically includes metrics such as precision, recall, F1-score, and support\n",
    "\n",
    "print(\"Classification_report for Test\")\n",
    "print(\"-------------------------------\")\n",
    "print(classification_report(y_true= y_test, y_pred= y_pred_test))"
   ]
  },
  {
   "cell_type": "code",
   "execution_count": 79,
   "id": "c2babbcc",
   "metadata": {},
   "outputs": [
    {
     "name": "stdout",
     "output_type": "stream",
     "text": [
      "[0.         0.14655172 1.        ]\n",
      "[0.         0.98809524 1.        ]\n",
      "[inf  1.  0.]\n"
     ]
    }
   ],
   "source": [
    "# Receiver Operating Characteristic (ROC) Curve\n",
    "\n",
    "FP, TP, Threshold = roc_curve(y_true=y_test, y_score=y_pred_test)\n",
    "\n",
    "print(FP)\n",
    "print(TP)\n",
    "print(Threshold)\n"
   ]
  },
  {
   "cell_type": "code",
   "execution_count": 80,
   "id": "7c4b1741",
   "metadata": {},
   "outputs": [
    {
     "name": "stdout",
     "output_type": "stream",
     "text": [
      "auc_curve:  0.9207717569786535\n"
     ]
    }
   ],
   "source": [
    "# Area Under the Curve (AUC)\n",
    "\n",
    "auc_curve = auc(x=FP, y=TP)\n",
    "print(\"auc_curve: \", auc_curve)"
   ]
  },
  {
   "cell_type": "code",
   "execution_count": 81,
   "id": "f5b11370",
   "metadata": {},
   "outputs": [
    {
     "data": {
      "image/png": "[encoded data removed]",
      "text/plain": [
       "<Figure size 640x480 with 1 Axes>"
      ]
     },
     "metadata": {},
     "output_type": "display_data"
    }
   ],
   "source": [
    "# create a plot for ROC and AUC curve\n",
    "\n",
    "roc_point= {\"ROC Curve (area)\":round(auc_curve, 2)}\n",
    "plt.plot(FP,TP,label= roc_point)\n",
    "plt.xlim([0.0, 1.0])\n",
    "plt.ylim([0.0, 1.1])\n",
    "plt.xlabel(\"False Positive\")\n",
    "plt.ylabel(\"True Positive\")\n",
    "plt.plot([0,1],[0,1],\"k--\")\n",
    "plt.legend(loc= \"lower right\")\n",
    "plt.show()"
   ]
  },
  {
   "cell_type": "code",
   "execution_count": 82,
   "id": "36d10d86",
   "metadata": {},
   "outputs": [],
   "source": [
    "# Saving the Model unsing pickle\n",
    "with open(\"Readmission_Model.pkl\",\"wb\") as m:\n",
    "    pickle.dump(Readmission_Model, m)"
   ]
  },
  {
   "cell_type": "code",
   "execution_count": 83,
   "id": "2fd8cb39",
   "metadata": {},
   "outputs": [
    {
     "data": {
      "text/html": [
       "<div>\n",
       "<style scoped>\n",
       "    .dataframe tbody tr th:only-of-type {\n",
       "        vertical-align: middle;\n",
       "    }\n",
       "\n",
       "    .dataframe tbody tr th {\n",
       "        vertical-align: top;\n",
       "    }\n",
       "\n",
       "    .dataframe thead th {\n",
       "        text-align: right;\n",
       "    }\n",
       "</style>\n",
       "<table border=\"1\" class=\"dataframe\">\n",
       "  <thead>\n",
       "    <tr style=\"text-align: right;\">\n",
       "      <th></th>\n",
       "      <th>Gender</th>\n",
       "      <th>Admission_Type</th>\n",
       "      <th>Diagnosis</th>\n",
       "      <th>Num_Lab_Procedures</th>\n",
       "      <th>Num_Medications</th>\n",
       "      <th>Num_Outpatient_Visits</th>\n",
       "      <th>Num_Inpatient_Visits</th>\n",
       "      <th>Num_Emergency_Visits</th>\n",
       "      <th>Num_Diagnoses</th>\n",
       "      <th>A1C_Result</th>\n",
       "      <th>Readmitted</th>\n",
       "    </tr>\n",
       "  </thead>\n",
       "  <tbody>\n",
       "    <tr>\n",
       "      <th>0</th>\n",
       "      <td>0</td>\n",
       "      <td>2</td>\n",
       "      <td>1</td>\n",
       "      <td>75</td>\n",
       "      <td>29</td>\n",
       "      <td>4</td>\n",
       "      <td>0</td>\n",
       "      <td>3</td>\n",
       "      <td>5</td>\n",
       "      <td>1</td>\n",
       "      <td>0</td>\n",
       "    </tr>\n",
       "    <tr>\n",
       "      <th>1</th>\n",
       "      <td>0</td>\n",
       "      <td>0</td>\n",
       "      <td>1</td>\n",
       "      <td>28</td>\n",
       "      <td>19</td>\n",
       "      <td>4</td>\n",
       "      <td>0</td>\n",
       "      <td>3</td>\n",
       "      <td>7</td>\n",
       "      <td>1</td>\n",
       "      <td>1</td>\n",
       "    </tr>\n",
       "    <tr>\n",
       "      <th>2</th>\n",
       "      <td>1</td>\n",
       "      <td>2</td>\n",
       "      <td>2</td>\n",
       "      <td>70</td>\n",
       "      <td>23</td>\n",
       "      <td>1</td>\n",
       "      <td>2</td>\n",
       "      <td>4</td>\n",
       "      <td>6</td>\n",
       "      <td>1</td>\n",
       "      <td>0</td>\n",
       "    </tr>\n",
       "    <tr>\n",
       "      <th>3</th>\n",
       "      <td>1</td>\n",
       "      <td>1</td>\n",
       "      <td>3</td>\n",
       "      <td>41</td>\n",
       "      <td>24</td>\n",
       "      <td>4</td>\n",
       "      <td>0</td>\n",
       "      <td>0</td>\n",
       "      <td>3</td>\n",
       "      <td>0</td>\n",
       "      <td>0</td>\n",
       "    </tr>\n",
       "    <tr>\n",
       "      <th>4</th>\n",
       "      <td>0</td>\n",
       "      <td>1</td>\n",
       "      <td>3</td>\n",
       "      <td>68</td>\n",
       "      <td>14</td>\n",
       "      <td>2</td>\n",
       "      <td>4</td>\n",
       "      <td>2</td>\n",
       "      <td>5</td>\n",
       "      <td>0</td>\n",
       "      <td>0</td>\n",
       "    </tr>\n",
       "  </tbody>\n",
       "</table>\n",
       "</div>"
      ],
      "text/plain": [
       "   Gender  Admission_Type  Diagnosis  Num_Lab_Procedures  Num_Medications  \\\n",
       "0       0               2          1                  75               29   \n",
       "1       0               0          1                  28               19   \n",
       "2       1               2          2                  70               23   \n",
       "3       1               1          3                  41               24   \n",
       "4       0               1          3                  68               14   \n",
       "\n",
       "   Num_Outpatient_Visits  Num_Inpatient_Visits  Num_Emergency_Visits  \\\n",
       "0                      4                     0                     3   \n",
       "1                      4                     0                     3   \n",
       "2                      1                     2                     4   \n",
       "3                      4                     0                     0   \n",
       "4                      2                     4                     2   \n",
       "\n",
       "   Num_Diagnoses  A1C_Result  Readmitted  \n",
       "0              5           1           0  \n",
       "1              7           1           1  \n",
       "2              6           1           0  \n",
       "3              3           0           0  \n",
       "4              5           0           0  "
      ]
     },
     "execution_count": 83,
     "metadata": {},
     "output_type": "execute_result"
    }
   ],
   "source": [
    "final_df.head()"
   ]
  },
  {
   "cell_type": "markdown",
   "id": "5212ca0e",
   "metadata": {},
   "source": [
    "# END"
   ]
  },
  {
   "cell_type": "code",
   "execution_count": 84,
   "id": "f356f531",
   "metadata": {},
   "outputs": [
    {
     "data": {
      "text/plain": [
       "np.int64(0)"
      ]
     },
     "execution_count": 84,
     "metadata": {},
     "output_type": "execute_result"
    }
   ],
   "source": [
    "# testing\n",
    "user_data = np.array([[0,2,1,75,29,4,0,3,5,1]])\n",
    "prediction = Readmission_Model.predict(user_data)\n",
    "prediction[0]"
   ]
  },
  {
   "cell_type": "code",
   "execution_count": 85,
   "id": "aa2d5637",
   "metadata": {},
   "outputs": [
    {
     "data": {
      "text/plain": [
       "Index(['Gender', 'Admission_Type', 'Diagnosis', 'Num_Lab_Procedures',\n",
       "       'Num_Medications', 'Num_Outpatient_Visits', 'Num_Inpatient_Visits',\n",
       "       'Num_Emergency_Visits', 'Num_Diagnoses', 'A1C_Result'],\n",
       "      dtype='object')"
      ]
     },
     "execution_count": 85,
     "metadata": {},
     "output_type": "execute_result"
    }
   ],
   "source": [
    "x_new.columns"
   ]
  },
  {
   "cell_type": "code",
   "execution_count": 86,
   "id": "bc0b3988",
   "metadata": {},
   "outputs": [
    {
     "name": "stdout",
     "output_type": "stream",
     "text": [
      "Minimum and Maximum values of all columns:\n",
      " \n",
      "                       Minimum  Maximum\n",
      "Gender                       0        2\n",
      "Admission_Type               0        2\n",
      "Diagnosis                    0        3\n",
      "Num_Lab_Procedures           1       99\n",
      "Num_Medications              1       35\n",
      "Num_Outpatient_Visits        0        4\n",
      "Num_Inpatient_Visits         0        4\n",
      "Num_Emergency_Visits         0        4\n",
      "Num_Diagnoses                1        9\n",
      "A1C_Result                   0        1\n"
     ]
    }
   ],
   "source": [
    "# Min & Max of each Column\n",
    "min_values = x_new.min()\n",
    "max_values = x_new.max()\n",
    "\n",
    "# Concatenate min_values and max_values along the columns axis\n",
    "min_max_df = pd.concat([min_values, max_values], axis=1)\n",
    "min_max_df.columns = ['Minimum', 'Maximum']\n",
    "\n",
    "print(\"Minimum and Maximum values of all columns:\")\n",
    "print(\" \")\n",
    "print(min_max_df)"
   ]
  }
 ],
 "metadata": {
  "kernelspec": {
   "display_name": ".venv",
   "language": "python",
   "name": "python3"
  },
  "language_info": {
   "codemirror_mode": {
    "name": "ipython",
    "version": 3
   },
   "file_extension": ".py",
   "mimetype": "text/x-python",
   "name": "python",
   "nbconvert_exporter": "python",
   "pygments_lexer": "ipython3",
   "version": "3.13.1"
  }
 },
 "nbformat": 4,
 "nbformat_minor": 5
}
